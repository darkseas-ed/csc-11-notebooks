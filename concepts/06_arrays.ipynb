{
 "cells": [
  {
   "cell_type": "markdown",
   "id": "ffa79860-72bf-46e6-a970-ae9564fb2a6b",
   "metadata": {},
   "source": [
    "# Arrays\n",
    "\n",
    "## Learning Objective\n",
    "\n",
    "Today we will be learning to:\n",
    "\n",
    "* read, use and build arrays\n",
    "\n",
    "## Success criteria\n",
    "\n",
    "By the end of this notebook, you will have been successful if:\n",
    "\n",
    "* distinguish between a python list and array\n",
    "* identify the characteristics of an array\n",
    "* read and build a numpy array\n",
    "\n",
    "## Syllabus\n",
    "\n",
    "* identify the characteristics of the following data structures:\n",
    "    * one-dimensional array\n",
    "* apply, using pseudocode and a programming language the following data structures: \n",
    "    * one-dimensional array\n",
    "\n",
    "## Vocabulary\n",
    "\n",
    " Word | Definition \n",
    "------|------------\n",
    " list | a heterogenous, resizable ordered collection\n",
    " array | a homogenous, fixed size ordered collection\n",
    " function | a block of statements that returns a value e.g. `range`\n",
    " module | a file containing definitions, functions and statements e.g. `path` in `os` package\n",
    " package | a folder containing modules and other folders\n",
    " \n",
    "\n",
    "## Review\n",
    "\n",
    "Important concepts to recall are:\n",
    "\n",
    "* datatypes - how to I find the `type` of some data in Python\n",
    "* what are the two common looping structures in Python.\n",
    "\n",
    "\n",
    "\n",
    "https://www.bbc.co.uk/bitesize/guides/zy9thyc/revision/1\n"
   ]
  },
  {
   "cell_type": "markdown",
   "id": "8de20c2c-f555-4541-87b6-98e5ca444370",
   "metadata": {},
   "source": [
    "## Lists\n",
    "\n",
    "Python lists are\n",
    "* ordered collections\n",
    "* can contain multiple types\n",
    "* and be resized\n",
    "\n",
    "Lists shared some characteristics with arrays but are very different."
   ]
  },
  {
   "cell_type": "code",
   "execution_count": null,
   "id": "a4520819-e139-4f39-baf1-577ea60d68cc",
   "metadata": {},
   "outputs": [],
   "source": [
    "mylist = ['a', -1, 3.14, True]\n",
    "mylist.append([1, 2, 3])\n",
    "mylist"
   ]
  },
  {
   "cell_type": "markdown",
   "id": "6ed05361-efe0-4c7d-9c4f-d4b2776945e4",
   "metadata": {},
   "source": [
    "Now make your own list.\n",
    "Make sure you\n",
    "* use square brackets (one left and `[` one right `]`)\n",
    "* separate each value with a comma `,`"
   ]
  },
  {
   "cell_type": "code",
   "execution_count": null,
   "id": "47abdf2f-6e94-4f7d-ac0d-e3752a9dd664",
   "metadata": {},
   "outputs": [],
   "source": [
    "# Make your list here\n",
    "\n"
   ]
  },
  {
   "cell_type": "code",
   "execution_count": null,
   "id": "e32db0f6-d678-4155-81b0-477161ebd980",
   "metadata": {},
   "outputs": [],
   "source": []
  },
  {
   "cell_type": "code",
   "execution_count": null,
   "id": "e563ecee-734d-4c59-a4bb-72a05901269a",
   "metadata": {},
   "outputs": [],
   "source": []
  },
  {
   "cell_type": "code",
   "execution_count": null,
   "id": "5559fb1a-a508-4c58-ba93-f26f76d9012f",
   "metadata": {},
   "outputs": [],
   "source": []
  },
  {
   "cell_type": "markdown",
   "id": "2873c4c6-01f7-49dc-b433-0e071040c309",
   "metadata": {},
   "source": [
    "## Arrays\n",
    "\n",
    "Arrays are\n",
    "* ordered collections\n",
    "* can contain only one type\n",
    "* are not resizable.\n",
    "\n",
    "The reason arrays are the same type and not resizable is because all of the data is stored next to each other in memory.\n",
    "\n",
    "![array in memory](../../images/array-2.png)\n",
    "\n",
    "While the standard library has an array package, the Numerical Python library (numpy) \n",
    "almost always the one used. \n",
    "We also use the matplotlib library to visualise our arrays."
   ]
  },
  {
   "cell_type": "code",
   "execution_count": null,
   "id": "ccaa9c18-b540-47fe-8aff-5811b907597a",
   "metadata": {},
   "outputs": [],
   "source": [
    "import numpy as np\n",
    "import matplotlib.pyplot as plt"
   ]
  },
  {
   "cell_type": "markdown",
   "id": "3eef7df0-e9dc-4134-9650-a9227688a60a",
   "metadata": {},
   "source": [
    "To make an array, we often start with a list."
   ]
  },
  {
   "cell_type": "code",
   "execution_count": null,
   "id": "256f2c1f-1db3-43c7-ae2a-a88d482cf4f9",
   "metadata": {},
   "outputs": [],
   "source": [
    "vals = [75, 55, 90, 65, 80]\n",
    "type(vals)"
   ]
  },
  {
   "cell_type": "code",
   "execution_count": null,
   "id": "c5b8861f-5d36-4e00-b142-46b41efc1ec0",
   "metadata": {},
   "outputs": [],
   "source": [
    "type(vals[0])"
   ]
  },
  {
   "cell_type": "markdown",
   "id": "50db0620-afef-4fc9-86b9-1028f9179317",
   "metadata": {},
   "source": [
    "Then we turn the list into an array, using the numpy function `array`"
   ]
  },
  {
   "cell_type": "code",
   "execution_count": null,
   "id": "f1cdacba-962c-4f45-be92-d1274a0c9324",
   "metadata": {},
   "outputs": [],
   "source": [
    "arr = np.array(vals)\n",
    "type(arr)"
   ]
  },
  {
   "cell_type": "code",
   "execution_count": null,
   "id": "dc96483b-fdb1-492e-9698-9bdb6678de2e",
   "metadata": {},
   "outputs": [],
   "source": [
    "type(arr[0])"
   ]
  },
  {
   "cell_type": "code",
   "execution_count": null,
   "id": "9120798a-1507-47db-be13-9416400d793a",
   "metadata": {},
   "outputs": [],
   "source": [
    "arr.dtype"
   ]
  },
  {
   "cell_type": "markdown",
   "id": "2157dfd0-0c3b-4904-b59d-aaeb0b932f1c",
   "metadata": {},
   "source": [
    "## Indexing\n",
    "\n",
    "For both lists and arrays, we can access the contents using index notation, or square brackets.\n",
    "\n",
    "Recall that the first index is 0 (zero)."
   ]
  },
  {
   "cell_type": "code",
   "execution_count": null,
   "id": "42ee0b21-5e8d-4ff0-8211-698e414beeeb",
   "metadata": {},
   "outputs": [],
   "source": [
    "arr"
   ]
  },
  {
   "cell_type": "code",
   "execution_count": null,
   "id": "a4bc8689-45b1-422c-b01e-bdcfb324f0e4",
   "metadata": {},
   "outputs": [],
   "source": [
    "arr[0]"
   ]
  },
  {
   "cell_type": "markdown",
   "id": "27ac7315-1349-4ec6-a222-df757fc26dd3",
   "metadata": {},
   "source": [
    "We can change the contents of a cell by assigning to it."
   ]
  },
  {
   "cell_type": "code",
   "execution_count": null,
   "id": "53128e53-4d48-4b3f-8c5a-8fe27e65e191",
   "metadata": {},
   "outputs": [],
   "source": [
    "arr[0] = 78"
   ]
  },
  {
   "cell_type": "code",
   "execution_count": null,
   "id": "1c791be9-daac-4022-8712-f67f8d2dda6d",
   "metadata": {},
   "outputs": [],
   "source": [
    "arr.dtype"
   ]
  },
  {
   "cell_type": "code",
   "execution_count": null,
   "id": "34249f17-a4aa-4d51-b2f9-d0323091fc62",
   "metadata": {},
   "outputs": [],
   "source": [
    "arr[0]"
   ]
  },
  {
   "cell_type": "markdown",
   "id": "61a810e1-0c63-4e42-8a97-51d275e57d18",
   "metadata": {},
   "source": [
    "Let's make some larger arrays"
   ]
  },
  {
   "cell_type": "code",
   "execution_count": null,
   "id": "1df6c53a-5865-4945-945c-18369e5602a2",
   "metadata": {},
   "outputs": [],
   "source": [
    "n = 100\n",
    "arr2 = np.random.rand(n)\n",
    "plt.plot(arr2)"
   ]
  },
  {
   "cell_type": "code",
   "execution_count": null,
   "id": "4a69413c-4416-49a8-b0f1-5deb65691817",
   "metadata": {},
   "outputs": [],
   "source": []
  },
  {
   "cell_type": "code",
   "execution_count": null,
   "id": "ffc1a4ca-772a-49bf-bcdb-894e905efe3e",
   "metadata": {},
   "outputs": [],
   "source": []
  },
  {
   "cell_type": "code",
   "execution_count": null,
   "id": "c221f106-4b74-4c4d-8bcb-a81f20c66930",
   "metadata": {},
   "outputs": [],
   "source": []
  },
  {
   "cell_type": "code",
   "execution_count": null,
   "id": "34d36dec-3f80-4651-8132-84c705b4b74f",
   "metadata": {},
   "outputs": [],
   "source": []
  },
  {
   "cell_type": "code",
   "execution_count": null,
   "id": "80e72951-90d2-4695-8514-f66cd7dee4b3",
   "metadata": {},
   "outputs": [],
   "source": []
  }
 ],
 "metadata": {
  "kernelspec": {
   "display_name": "Python 3 (ipykernel)",
   "language": "python",
   "name": "python3"
  },
  "language_info": {
   "codemirror_mode": {
    "name": "ipython",
    "version": 3
   },
   "file_extension": ".py",
   "mimetype": "text/x-python",
   "name": "python",
   "nbconvert_exporter": "python",
   "pygments_lexer": "ipython3",
   "version": "3.10.8"
  }
 },
 "nbformat": 4,
 "nbformat_minor": 5
}

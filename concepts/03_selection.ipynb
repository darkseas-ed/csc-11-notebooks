{
 "cells": [
  {
   "cell_type": "markdown",
   "id": "8ba7a63c-cbc5-4889-a7b9-83447262bc7d",
   "metadata": {},
   "source": [
    "# Selection\n",
    "\n",
    "Selection means choosing among one or more actions based upon some condition.\n",
    "\n",
    "A condition is something that is either True or False.\n",
    "\n",
    "For example, is your age over 18?"
   ]
  },
  {
   "cell_type": "code",
   "execution_count": null,
   "id": "7dd1d7c0-7aeb-4cb8-af64-37eedff4349a",
   "metadata": {},
   "outputs": [],
   "source": [
    "age = 0\n",
    "\n",
    "age > 18"
   ]
  },
  {
   "cell_type": "markdown",
   "id": "0bb3780f-c5fb-4ed1-a184-796056059b07",
   "metadata": {},
   "source": [
    "The most common way to select among branches is with an `if` statement.\n",
    "\n",
    "In Python, it looks like this."
   ]
  },
  {
   "cell_type": "code",
   "execution_count": null,
   "id": "c9a19013-0349-4211-921b-f741a83cbbbd",
   "metadata": {},
   "outputs": [],
   "source": [
    "if age > 18:\n",
    "    print(\"You can vote\")"
   ]
  },
  {
   "cell_type": "markdown",
   "id": "b0b83cc5-325a-45b1-b3f6-57e30a6b6f87",
   "metadata": {},
   "source": [
    "This is a single branch `if` statement. The action will only occur if the condition is True.\n",
    "There is no action is the condition is False.\n",
    "\n",
    "A more common form of the `if` statement has two-branches.\n",
    "\n",
    "There are a set of actions if the condition is True, </br>\n",
    "and a different set of actions if the condition is False."
   ]
  },
  {
   "cell_type": "code",
   "execution_count": null,
   "id": "1e8ed7ef-f69f-478b-b8f2-2289c0592830",
   "metadata": {},
   "outputs": [],
   "source": [
    "age = 0\n",
    "\n",
    "if age > 18:\n",
    "    print(\"You may vote\")\n",
    "else:\n",
    "    print(\"You will have to wait to have your say!\")"
   ]
  },
  {
   "cell_type": "markdown",
   "id": "35b3b5e2-79a4-41af-a4a8-317f2c0b0dff",
   "metadata": {},
   "source": [
    "We can have multiple branches by nesting `if` statements."
   ]
  },
  {
   "cell_type": "code",
   "execution_count": null,
   "id": "62712271-7082-4586-9553-11ff854e814b",
   "metadata": {},
   "outputs": [],
   "source": [
    "weather = 'raining'\n",
    "friends = 2\n",
    "if weather == 'sunny':\n",
    "    if friends > 0:\n",
    "        print(\"Walk to school with friends\")\n",
    "    else:\n",
    "        print(\"Ride by myself\")\n",
    "else:\n",
    "    print(\"Ask for a lift from Dad.\")\n",
    "    "
   ]
  },
  {
   "cell_type": "code",
   "execution_count": null,
   "id": "2e41bee0-44f7-4e73-85e2-e2c62d2e75f5",
   "metadata": {},
   "outputs": [],
   "source": [
    "key = 'w'\n",
    "\n",
    "if key == 'a':\n",
    "    print('left')\n",
    "else:\n",
    "    if key == 's':\n",
    "        print('back'):\n",
    "    else:\n",
    "        if key == 'd':\n",
    "            print(\"right\")\n",
    "        else:\n",
    "            if key == 'w':\n",
    "                print('forward!')\n",
    "            else:\n",
    "                print('Unknown key')"
   ]
  },
  {
   "cell_type": "markdown",
   "id": "edec819a-aa3a-41cf-826d-7a02647ab2cd",
   "metadata": {},
   "source": [
    "Or we can chain `if` statements together."
   ]
  },
  {
   "cell_type": "code",
   "execution_count": null,
   "id": "bf7cbae9-4498-4b80-a692-cbd3fc7ededc",
   "metadata": {},
   "outputs": [],
   "source": [
    "key = 'w'\n",
    "\n",
    "if key == 'a':\n",
    "    print('left')\n",
    "elif key == 's':\n",
    "    print('back'):\n",
    "elif key == 'd':\n",
    "    print(\"right\")\n",
    "elif key == 'w':\n",
    "    print(forward!)\n",
    "else:\n",
    "    print('Unknown key')"
   ]
  },
  {
   "cell_type": "code",
   "execution_count": null,
   "id": "840c7e3b-ed2f-4feb-b930-0433f0ce9301",
   "metadata": {},
   "outputs": [],
   "source": [
    "2**16"
   ]
  },
  {
   "cell_type": "code",
   "execution_count": null,
   "id": "6fa09164-0dfe-4f5c-8d6a-911bb1fc46d5",
   "metadata": {},
   "outputs": [],
   "source": []
  },
  {
   "cell_type": "code",
   "execution_count": null,
   "id": "ca145e68-a737-4fc9-97bc-0594e5a759e2",
   "metadata": {},
   "outputs": [],
   "source": []
  }
 ],
 "metadata": {
  "kernelspec": {
   "display_name": "Python 3 (ipykernel)",
   "language": "python",
   "name": "python3"
  },
  "language_info": {
   "codemirror_mode": {
    "name": "ipython",
    "version": 3
   },
   "file_extension": ".py",
   "mimetype": "text/x-python",
   "name": "python",
   "nbconvert_exporter": "python",
   "pygments_lexer": "ipython3",
   "version": "3.10.8"
  }
 },
 "nbformat": 4,
 "nbformat_minor": 5
}

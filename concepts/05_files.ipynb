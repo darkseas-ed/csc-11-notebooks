{
 "cells": [
  {
   "cell_type": "markdown",
   "id": "addadb71-0bf6-4327-8e9c-329f2dabdd34",
   "metadata": {},
   "source": [
    "# Files and filesystems\n",
    "\n",
    "## Learning Objective\n",
    "\n",
    "Today we will be learning:\n",
    "\n",
    "* read and write files\n",
    "\n",
    "## Success criteria\n",
    "\n",
    "By the end of this notebook, you will have been successful if:\n",
    "\n",
    "* read and printed a file\n",
    "* checked and caught a file error\n",
    "* written to, then read from a file.\n",
    "\n",
    "## Vocabulary\n",
    "\n",
    " Word | Definition \n",
    "------|------------\n",
    " OS | Operating System\n",
    " cwd | current working directory\n",
    " path separator | the character to represent new folders in the file tree\n",
    " filename | the full name of the file within the directory\n",
    " filepath | the combined name of filename and some (all) of its parent directories\n",
    " file extension | the trailing letters (and dot) of the filename \n",
    " . | a shortcut to mean the current directory\n",
    " .. | a shortcut to mean the parent directory\n",
    " ~ | a shortcut to mean the user's home directory\n",
    " \n",
    " \n",
    "\n",
    "## Review\n",
    "\n",
    "Important concepts to recall are:\n",
    "\n",
    "* binary representation\n",
    "\n",
    "Data at rest or in transit is represented as binary numbers."
   ]
  },
  {
   "cell_type": "code",
   "execution_count": null,
   "id": "d426282d-81a7-4a59-9e02-7511438bfe9e",
   "metadata": {},
   "outputs": [],
   "source": [
    "import os.path    # import the library that uses your os \n",
    "fp = \"hello.txt\"\n",
    "os.path.isfile(fp)\n"
   ]
  },
  {
   "cell_type": "markdown",
   "id": "178b9d60-af88-4f73-b8e0-5e1063f64388",
   "metadata": {},
   "source": [
    "This code has a an important **sequence**.\n",
    "\n",
    "Run the code, then mix up the order of the lines"
   ]
  },
  {
   "cell_type": "code",
   "execution_count": null,
   "id": "ae5b8b17-2b6c-4012-bea1-6f4c8522449d",
   "metadata": {},
   "outputs": [],
   "source": [
    "fh = open(\"hello.txt\")  # 1. Open a file handle\n",
    "fh.close()              # 4. Close the file handle\n",
    "msg = fh.read()         # 2. Read the whole file into a the variable `msg`\n",
    "print(msg)              # 3. Print the message\n"
   ]
  },
  {
   "cell_type": "markdown",
   "id": "46d76376-1feb-4ff0-a431-4f277c68bfa7",
   "metadata": {},
   "source": [
    "### File handles or descriptors\n",
    "\n",
    "A file handle is how that your OS uses to keep track of accesses to files. There is a limited number of these handles and whenever you **open** one, you must take to **close** it again in case you run out of them.\n",
    "\n",
    "A typical number is 1000, so you can run out of them easily if you open them in a loop.\n",
    "\n",
    "Python can help here by using a **with** statement. Below is the same code, but using a **with** block to *guarantee* the file is closed again.\n",
    "\n",
    "https://www.techopedia.com/definition/3313/file-handle"
   ]
  },
  {
   "cell_type": "code",
   "execution_count": null,
   "id": "766e0096-afa4-4c44-b7ce-e7729c3a058a",
   "metadata": {},
   "outputs": [],
   "source": [
    "with open(\"hello.txt\") as fh:\n",
    "    msg = fh.read()\n",
    "print(msg)"
   ]
  },
  {
   "cell_type": "markdown",
   "id": "7e245744-8884-4868-80ce-9a4889f3586f",
   "metadata": {},
   "source": [
    "A common error when opening file is FileNotFoundError, \n",
    "so it's often worth checking if the filepath"
   ]
  },
  {
   "cell_type": "code",
   "execution_count": null,
   "id": "2c47612a-d7f3-419f-b5ce-66c21dd44b17",
   "metadata": {},
   "outputs": [],
   "source": [
    "with open(\"non-existing-file.txt\") as fh:\n",
    "    msg = fh.read()\n",
    "print(msg)"
   ]
  },
  {
   "cell_type": "code",
   "execution_count": null,
   "id": "0bfb9aa5-0aed-4857-860f-e2b07c9914c5",
   "metadata": {},
   "outputs": [],
   "source": [
    "import os.path as osp\n",
    "\n",
    "fp = \"./no-such-file.txt\"\n",
    "# Use an `if` statement to check\n",
    "if osp.isfile(fp):\n",
    "    with open(fp) as fh:\n",
    "        msg = fh.read()\n",
    "    print(msg)\n",
    "else:\n",
    "    print(\"No such file as {}\".format(osp.abspath(fp)))\n",
    "    "
   ]
  },
  {
   "cell_type": "code",
   "execution_count": null,
   "id": "a3303b8d-a43a-4ad2-a560-4bf1be5cceb2",
   "metadata": {},
   "outputs": [],
   "source": [
    "osp.abspath?"
   ]
  },
  {
   "cell_type": "code",
   "execution_count": null,
   "id": "087711e2-473c-4160-bb02-3e35028c46b9",
   "metadata": {},
   "outputs": [],
   "source": [
    "# Or use a try.. except block\n",
    "try:\n",
    "    with open(fp) as fh:\n",
    "        msg = fh.read()\n",
    "    print(msg)\n",
    "except FileNotFoundError:\n",
    "    print(\"No such file as {}\".format(osp.abspath(fp)))"
   ]
  },
  {
   "cell_type": "markdown",
   "id": "777286d4-b614-4bd9-ba2a-3d60d5ccb0fb",
   "metadata": {},
   "source": [
    "### File modes\n",
    "\n",
    "\n",
    "Character | Meaning\n",
    "----------|---------------------------------------------------------------\n",
    "'r'       | open for reading (default)\n",
    "'w'       | open for writing, truncating the file first\n",
    "'x'       | create a new file and open it for writing\n",
    "'a'       | open for writing, appending to the end of the file if it exists\n",
    "'b'       | binary mode\n",
    "'t'       | text mode (default)\n",
    "'+'       | open a disk file for updating (reading and writing)\n",
    "\n",
    "These uses of `open` are all equivalent:\n",
    "\n",
    "* `open(filename)`\n",
    "* `open(filename, 'r')`\n",
    "* `open(filename, 'rt')`\n",
    "\n",
    "A word of warning here, if you open a file in `write` mode with the `'w'`,\n",
    "then the file will be **truncated** or deleted before writing to it.\n",
    "\n",
    "To **add** to the end of a file, you will need `append` mode, or `'a'`."
   ]
  },
  {
   "cell_type": "markdown",
   "id": "42c99049-8c22-4e50-a21e-a73195d8965d",
   "metadata": {},
   "source": [
    "### Writing files\n",
    "\n",
    "You often write to file to record results.\n",
    "\n",
    "Look at the code below and decide:\n",
    "\n",
    "* what mode is the file opened in?\n",
    "* what will go into file?\n",
    "* what will the last thing written be?"
   ]
  },
  {
   "cell_type": "code",
   "execution_count": null,
   "id": "8a51ac86-7c53-414e-ac8a-99540d8c3b48",
   "metadata": {},
   "outputs": [],
   "source": [
    "with open('countdown.txt', 'a') as result:\n",
    "    for i in range(10, 0, -1):\n",
    "        result.write(\"{}\\n\".format(i)) \n",
    "    result.write(\"Boom\")"
   ]
  },
  {
   "cell_type": "markdown",
   "id": "44d66bcc-2f44-4b5c-8b32-5fcaa7a345c2",
   "metadata": {},
   "source": [
    "**Read** the code below and decide:\n",
    "\n",
    "* will this code write to the bottom of the file?\n",
    "* what will the last thing written be?\n",
    "* what is the error in this code?\n",
    "\n",
    "**Fix** and run the code so that it runs without error."
   ]
  },
  {
   "cell_type": "code",
   "execution_count": null,
   "id": "1dfa750e-8940-436c-94a6-0de16e7c8864",
   "metadata": {},
   "outputs": [],
   "source": [
    "with open('countdown.txt', 'w') as result:\n",
    "    for i in range(10, 0, -1):\n",
    "        result.write(\"{}\\n\".format(i)) \n",
    "result.write(\"Boom\")"
   ]
  },
  {
   "cell_type": "markdown",
   "id": "6c14eeda-9a14-4962-bc84-665b771b70b7",
   "metadata": {},
   "source": [
    "**Write** some code that reads the `countdown.txt` file and prints the file.\n",
    "\n",
    "Remember you will need to:\n",
    "\n",
    "1. Use `with` to open a file in reading mode.\n",
    "2. `read` the data from the file\n",
    "3. `print` the data"
   ]
  },
  {
   "cell_type": "code",
   "execution_count": null,
   "id": "fc2dee98-bac6-49eb-97d2-6169f8a4b9a7",
   "metadata": {},
   "outputs": [],
   "source": [
    "# Read and print the data from countdown.txt here\n",
    "\n",
    "\n",
    "\n"
   ]
  },
  {
   "cell_type": "markdown",
   "id": "90ced2de-eb48-4a96-b8e4-eacc0725a4e7",
   "metadata": {},
   "source": [
    "A more efficient way to read the file is to read it line by line.\n",
    "Python allows you to use `for` to iterate over each line,\n",
    "so that the *whole* file is *not* read into file at once.\n",
    "It is faster too as just a little data is read before doing something with it.\n",
    "\n",
    "This is particularly important for very large files.\n",
    "\n",
    "**Write** some code that reads the `countdown.txt` file and prints each line\n",
    "\n",
    "1. Use `with` to open a file in reading mode.\n",
    "2. Iterate over each line\n",
    "    * `print` the line\n"
   ]
  },
  {
   "cell_type": "code",
   "execution_count": null,
   "id": "0c498bf3-1a60-4a2c-9314-fe4620c8389c",
   "metadata": {},
   "outputs": [],
   "source": [
    "# Read and print each line from countdown.txt here\n",
    "\n",
    "\n",
    "\n"
   ]
  },
  {
   "cell_type": "markdown",
   "id": "73e3bc00-98d1-40e0-9640-3f9637dd3402",
   "metadata": {},
   "source": [
    "## Binary mode\n",
    "\n",
    "Opening a file in text mode requires that every byte can be converted into a character.\n",
    "If there are bytes that *cannot* be converted, then an error will be thrown.\n",
    "\n",
    "![texture_bitmap](../images/simple_texture.bmp)\n",
    "\n",
    "The image *above* is stored as bytes, many of which cannot be converted to text.\n",
    "The code *below* will raise an error.\n",
    "\n",
    "What change can you make to prevent the error from happening?"
   ]
  },
  {
   "cell_type": "code",
   "execution_count": null,
   "id": "0d801871-03fd-4742-959f-9b9bd7aedfa5",
   "metadata": {},
   "outputs": [],
   "source": [
    "fp = \"../images/simple_texture.png\"\n",
    "with open(fp, 'rb') as im:\n",
    "    msg = im.read()\n",
    "print(msg)"
   ]
  },
  {
   "cell_type": "code",
   "execution_count": null,
   "id": "29f54927-29f2-45e9-ad83-dda25527f77c",
   "metadata": {},
   "outputs": [],
   "source": []
  },
  {
   "cell_type": "code",
   "execution_count": null,
   "id": "fc376a73-bae4-4cad-80b3-51caa5cd66e3",
   "metadata": {},
   "outputs": [],
   "source": []
  },
  {
   "cell_type": "code",
   "execution_count": null,
   "id": "d71daec1-a0e4-4613-88c8-7820b5160121",
   "metadata": {},
   "outputs": [],
   "source": []
  },
  {
   "cell_type": "code",
   "execution_count": null,
   "id": "71b9460a-2f47-4dbb-a57a-768927fd87a6",
   "metadata": {},
   "outputs": [],
   "source": []
  },
  {
   "cell_type": "code",
   "execution_count": null,
   "id": "f6d03aa7-c451-4ee2-a745-372e08ef2cd2",
   "metadata": {},
   "outputs": [],
   "source": [
    "open?"
   ]
  },
  {
   "cell_type": "code",
   "execution_count": null,
   "id": "9f0a2d96-7aab-473c-8a6c-f862522e8dad",
   "metadata": {},
   "outputs": [],
   "source": [
    "with open(\"hello.txt\", 'rt') as fh:\n",
    "    msg = fh.read()\n",
    "print(msg)"
   ]
  },
  {
   "cell_type": "code",
   "execution_count": null,
   "id": "67615327-21f6-4847-adfc-1d2377b0fd2b",
   "metadata": {},
   "outputs": [],
   "source": [
    "import os\n",
    "os.listdir('.')"
   ]
  },
  {
   "cell_type": "code",
   "execution_count": null,
   "id": "d6acdccb-014f-449b-b067-4ba445c366e1",
   "metadata": {},
   "outputs": [],
   "source": [
    "from PIL import Image\n",
    "fp = \"./simple_texture.png\"\n",
    "\n",
    "assert osp.isfile(fp)\n",
    "\n",
    "with Image.open(fp) as im:\n",
    "    im.rotate(45).show()"
   ]
  },
  {
   "cell_type": "code",
   "execution_count": null,
   "id": "cf2aa9f3-12e9-4799-b13b-72cc0783cb11",
   "metadata": {},
   "outputs": [],
   "source": [
    "import os\n",
    "\n",
    "for f in os.listdir('.'):\n",
    "    print(f)"
   ]
  },
  {
   "cell_type": "code",
   "execution_count": null,
   "id": "aedff684-dbfb-43d0-91ae-c45595bb9d26",
   "metadata": {},
   "outputs": [],
   "source": []
  },
  {
   "cell_type": "code",
   "execution_count": null,
   "id": "f356ea76-9b91-4224-990f-acd251ccb9c7",
   "metadata": {},
   "outputs": [],
   "source": [
    "x = None\n",
    "y = None\n",
    "x == y\n",
    "type(x)"
   ]
  },
  {
   "cell_type": "code",
   "execution_count": null,
   "id": "80b94ea4-a24a-4b32-982d-17bc6d2c08ea",
   "metadata": {},
   "outputs": [],
   "source": [
    "float('-0')\n"
   ]
  },
  {
   "cell_type": "code",
   "execution_count": null,
   "id": "693e8df7-b899-45df-9bc8-c19a50852a35",
   "metadata": {},
   "outputs": [],
   "source": [
    "repr(None)"
   ]
  },
  {
   "cell_type": "code",
   "execution_count": null,
   "id": "79b71d0d-64a9-4a17-a95b-f2e154e0420b",
   "metadata": {},
   "outputs": [],
   "source": []
  }
 ],
 "metadata": {
  "kernelspec": {
   "display_name": "Python 3 (ipykernel)",
   "language": "python",
   "name": "python3"
  },
  "language_info": {
   "codemirror_mode": {
    "name": "ipython",
    "version": 3
   },
   "file_extension": ".py",
   "mimetype": "text/x-python",
   "name": "python",
   "nbconvert_exporter": "python",
   "pygments_lexer": "ipython3",
   "version": "3.10.8"
  }
 },
 "nbformat": 4,
 "nbformat_minor": 5
}

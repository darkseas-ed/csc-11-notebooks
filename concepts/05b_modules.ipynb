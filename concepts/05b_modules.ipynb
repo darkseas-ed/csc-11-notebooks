{
 "cells": [
  {
   "cell_type": "markdown",
   "id": "7550a44a-617e-4f5a-8252-5175b88e7617",
   "metadata": {},
   "source": [
    "# Function, modules and packages\n",
    "\n",
    "## Lesson Objectives \n",
    "Today we will be learning about \n",
    "*  modular programming\n",
    " \n",
    "## Syllabus  \n",
    "\t• use modular coding using functions, parameters and arguments \n",
    "\t• scope of variables (Global, Local) \n",
    " \n",
    "## Success Criteria \n",
    "You will have been successful if you have \n",
    "\n",
    "* imported a package, a function from a package and aliased them\n",
    "* written a function with \n",
    "    * no inputs or outputs\n",
    "    * inputs\n",
    "    * outputs\n",
    "    * optional inputs\n",
    "* written and imported your own module\n",
    "\n",
    "### Vocabulary\n",
    "\n",
    "Name | Definition\n",
    "---|---\n",
    "function | A block of python statements (usually) assigned to a name\n",
    "parameter | The parameters are the variables that we can define in the function declaration\n",
    "argument | The arguments are the values given to the function for execution\n",
    "module | A file of python functions, statements and definitions\n",
    "package | A folder of python modules (ond possibly other folders of modules)\n",
    "scope | The region of a program that can see a variable\n"
   ]
  },
  {
   "cell_type": "markdown",
   "id": "657d1772-54f2-4b3c-96bd-8bd6e87b0dda",
   "metadata": {},
   "source": [
    "# Anatomy of a Function\n",
    "\n",
    "    def <func-name>(<param1>, <param2):\n",
    "        <python statements>\n",
    "        return <result>\n",
    "        \n",
    "Note \n",
    "* the keyword to define a function is `def`\n",
    "* the parameters are a comma separated list of inputs\n",
    "* all the python statements are indented\n",
    "* the function with a return statement"
   ]
  },
  {
   "cell_type": "markdown",
   "id": "6dba171f-b4d6-475f-833b-b26ea313f1fe",
   "metadata": {},
   "source": [
    "### No inputs or outputs\n",
    "\n",
    "A Python function can just accomplish actions without any inputs or outputs."
   ]
  },
  {
   "cell_type": "code",
   "execution_count": null,
   "id": "9d7a92ff-6d3d-4d14-9752-bf2e93678d7a",
   "metadata": {},
   "outputs": [],
   "source": [
    "def greet():\n",
    "    \"\"\"This function will greet Kevin.\"\"\"\n",
    "    print(\"Hello Kevin!\")"
   ]
  },
  {
   "cell_type": "code",
   "execution_count": null,
   "id": "82afde37-aee3-4f0b-85be-68e3e73c439c",
   "metadata": {},
   "outputs": [],
   "source": [
    "greet()"
   ]
  },
  {
   "cell_type": "markdown",
   "id": "e8897803-8f6b-469a-94b6-5ffd6c1f5c27",
   "metadata": {},
   "source": [
    "### Function inputs\n",
    "\n",
    "If your name is not Kevin, you can improve this function by adding a parameter, `name`."
   ]
  },
  {
   "cell_type": "code",
   "execution_count": null,
   "id": "8781b409-243d-4538-a689-4eb6701dc6c0",
   "metadata": {},
   "outputs": [],
   "source": [
    "def greet2(name):\n",
    "    \"\"\"This function will greet you.\"\"\"\n",
    "    print(\"Hello {}!\".format(name))\n",
    "    \n",
    "name = \"Mr Coombes\"\n",
    "greet2(2)"
   ]
  },
  {
   "cell_type": "markdown",
   "id": "f0a8aff5-0c5a-4a4c-af33-fb3bb1d552eb",
   "metadata": {},
   "source": [
    "### Function outputs\n",
    "\n",
    "A Python function will `return` something whether you use a `return` statement of not.\n"
   ]
  },
  {
   "cell_type": "code",
   "execution_count": null,
   "id": "5afb4bb7-f20a-4e59-8dea-d75ea09faa22",
   "metadata": {},
   "outputs": [],
   "source": [
    "output = greet2(name)\n",
    "\n",
    "print(\"Output is {}\".format(output))"
   ]
  },
  {
   "cell_type": "markdown",
   "id": "433a0c5b-5264-4da8-af40-73e7d756c34d",
   "metadata": {},
   "source": [
    "Use the return statement.\n"
   ]
  },
  {
   "cell_type": "code",
   "execution_count": null,
   "id": "e0464725-be91-4b58-b0b6-2d9b4e15a14f",
   "metadata": {},
   "outputs": [],
   "source": [
    "def greet3(name):\n",
    "    greeting = \"Hello {}|\".format(name)\n",
    "    return greeting\n",
    "\n",
    "output = greet3(name)\n",
    "print(output)"
   ]
  },
  {
   "cell_type": "markdown",
   "id": "52de15b9-79d4-4798-9ccb-0ab93c37c5c5",
   "metadata": {},
   "source": [
    "### Functions with default arguments\n",
    "\n",
    "Now if your name is **is** Kevin, you might be getting bored of typing your name in.\n",
    "\n",
    "But if you try using a function without its arguments, you will get an error."
   ]
  },
  {
   "cell_type": "code",
   "execution_count": null,
   "id": "ea5232f2-84e4-4e57-9339-d3db26171222",
   "metadata": {},
   "outputs": [],
   "source": [
    "greet2()"
   ]
  },
  {
   "cell_type": "markdown",
   "id": "d95cf66c-1917-47b0-b31b-aff1319d9852",
   "metadata": {},
   "source": [
    "We can write a function that will use default values for any parameters that are not provided."
   ]
  },
  {
   "cell_type": "code",
   "execution_count": null,
   "id": "6a6d087e-9748-4577-902f-2ada81c848a7",
   "metadata": {},
   "outputs": [],
   "source": [
    "def greet4(name=\"Kevin\"):\n",
    "    greeting = \"Hello {}|\".format(name)\n",
    "    print(greeting)\n",
    "    return greeting\n",
    "\n",
    "greet4()"
   ]
  },
  {
   "cell_type": "markdown",
   "id": "1e6304c5-0c11-4e54-abc0-72a5be1373bd",
   "metadata": {},
   "source": [
    "Now it's your turn to write a function.\n",
    "\n",
    "Write a function that will change the greeting based on the language a person speaks.\n",
    "The function will be:\n",
    "* called `welcome` \n",
    "* and will take two inputs or parameters\n",
    "    * `name` - the person's name\n",
    "    * `lang` - the person's language\n",
    "    \n",
    "Language codes could include\n",
    "\n",
    "Code | Language\n",
    "---|---\n",
    "en | English\n",
    "ja | Japanese\n",
    "\n",
    "https://en.wikipedia.org/wiki/List_of_ISO_639-1_codes"
   ]
  },
  {
   "cell_type": "code",
   "execution_count": null,
   "id": "60f28703-6de6-4033-b16f-9335e2af5fbd",
   "metadata": {},
   "outputs": [],
   "source": [
    "# Write your code here.\n",
    "\n",
    "def welcome(name, lang):\n",
    "    \"\"\"Welcome the user.\"\"\"\n",
    "    # print(\"Name is {}\".format(name))\n",
    "    # print(\"Language is {}\".format(lang))\n",
    "    if lang == 'en':\n",
    "        g = 'Hello '\n",
    "    elif lang == 'fr':\n",
    "        g = \"Bonjour \"\n",
    "    else:\n",
    "        g = \"what..\"\n",
    "    saying = \"{} {}\".format(g, name) \n",
    "    return saying\n",
    "\n",
    "        "
   ]
  },
  {
   "cell_type": "code",
   "execution_count": null,
   "id": "42071e8b-5c85-468d-b601-fd8e07e71b57",
   "metadata": {},
   "outputs": [],
   "source": [
    "    # Function that adds two numbers\n",
    "    \n",
    "def add(a, b):\n",
    "    \"\"\"Adds two numbers.\"\"\"\n",
    "    return a + b\n",
    "\n",
    "\n",
    "def mul(a, b):\n",
    "    result = a * b\n",
    "    return result\n",
    "\n",
    "def double(n):\n",
    "    result = mul(n, 2)\n",
    "    return result\n",
    "    \n",
    "\n",
    "    \n",
    "    "
   ]
  },
  {
   "cell_type": "code",
   "execution_count": null,
   "id": "e7635916-1f31-4eec-bae8-fc1824101038",
   "metadata": {},
   "outputs": [],
   "source": [
    "determinant(1, 2, 3)"
   ]
  },
  {
   "cell_type": "code",
   "execution_count": null,
   "id": "3b1c60eb-27a8-4d9f-a572-a8624e0570cf",
   "metadata": {},
   "outputs": [],
   "source": []
  },
  {
   "cell_type": "code",
   "execution_count": null,
   "id": "2aabcfbc-5cf6-46c2-892c-3254d3f8d910",
   "metadata": {},
   "outputs": [],
   "source": []
  },
  {
   "cell_type": "code",
   "execution_count": null,
   "id": "b2e915ac-da1b-4602-8a13-4c55844c1d25",
   "metadata": {},
   "outputs": [],
   "source": []
  },
  {
   "cell_type": "code",
   "execution_count": null,
   "id": "4ebb3498-24c7-4b63-9b85-a1b5c1d2276f",
   "metadata": {},
   "outputs": [],
   "source": []
  },
  {
   "cell_type": "code",
   "execution_count": null,
   "id": "f6814443-da9f-455b-982c-6be98532c24b",
   "metadata": {},
   "outputs": [],
   "source": [
    "welcome(\"Batman\", \"fr\")"
   ]
  },
  {
   "cell_type": "markdown",
   "id": "c865bfc5-338f-4c3b-acaf-3561b3b47988",
   "metadata": {},
   "source": [
    "## Modules\n",
    "\n",
    "A module is a text file ending in `.py`.\n",
    "\n",
    "Python modules should be short, lowercase and only separated with underscores.\n",
    "This is because they also need to be valid identifiers (variable names).\n",
    "https://pythonguides.com/python-naming-conventions/\n",
    "\n",
    "In VS Code, lets make a new file called `greetings.py`.\n",
    "\n",
    "Copy and paste some of the `greet` functions into that file and save it.\n",
    "\n",
    "We can import our module using the `import` statement, \n",
    "as long as the module is in the same folder as your notebook, \n",
    "(and your 'opened' folder in VS Code)."
   ]
  },
  {
   "cell_type": "markdown",
   "id": "9a5795d6-96ca-4471-8de0-8af6212243ac",
   "metadata": {},
   "source": [
    "### Standard import\n",
    "\n",
    "A standard import just uses the module name, the same name that you will use in your code."
   ]
  },
  {
   "cell_type": "code",
   "execution_count": null,
   "id": "20f10158-9cec-4069-83a3-22a06bf7e072",
   "metadata": {},
   "outputs": [],
   "source": [
    "import greetings\n",
    "\n",
    "greetings.greet()"
   ]
  },
  {
   "cell_type": "markdown",
   "id": "c143d2ce-fee4-4bee-acf1-dff88d0cd0b6",
   "metadata": {},
   "source": [
    "### Aliased import \n",
    "\n",
    "You can rename the module if it clashes with some of your code, or if its too long.\n"
   ]
  },
  {
   "cell_type": "code",
   "execution_count": null,
   "id": "56652362-e0b8-49b5-92ea-c195d92c0241",
   "metadata": {},
   "outputs": [],
   "source": [
    "import greetings as gg\n",
    "\n",
    "gg.greet()"
   ]
  },
  {
   "cell_type": "markdown",
   "id": "6f064429-a3be-4142-a89b-d99a5e2ee69d",
   "metadata": {},
   "source": [
    "### Named import\n",
    "\n",
    "If you only want one function, and you it inside your namespace,\n",
    "you can ask for specifically, using `from`"
   ]
  },
  {
   "cell_type": "code",
   "execution_count": null,
   "id": "39f22d54-10f5-4c3b-94d4-5fbb7d548878",
   "metadata": {},
   "outputs": [],
   "source": [
    "from greetings import greet\n",
    "\n",
    "greet()"
   ]
  },
  {
   "cell_type": "markdown",
   "id": "283dcde1-2ca0-4491-b008-260543d515d6",
   "metadata": {},
   "source": [
    "### Star import\n",
    "\n",
    "If you want all of the functions from the module you can import them at once using `*`.\n",
    "\n",
    "Warning: This is not very pretty Python because you might clobber you own functions or even built-in ones."
   ]
  },
  {
   "cell_type": "code",
   "execution_count": null,
   "id": "9df6b2a1-28b1-4362-9f80-461b9c369958",
   "metadata": {},
   "outputs": [],
   "source": [
    "from greetings import *\n",
    "\n",
    "greet()"
   ]
  },
  {
   "cell_type": "code",
   "execution_count": null,
   "id": "251b63fa-bdf6-4021-a10a-bd62acf06dae",
   "metadata": {},
   "outputs": [],
   "source": []
  },
  {
   "cell_type": "code",
   "execution_count": null,
   "id": "ea89f529-3c5a-4e27-817d-087f70fc4637",
   "metadata": {},
   "outputs": [],
   "source": []
  },
  {
   "cell_type": "code",
   "execution_count": null,
   "id": "963e9e3d-eb2e-40ef-a61d-b6f37a4e0455",
   "metadata": {},
   "outputs": [],
   "source": []
  }
 ],
 "metadata": {
  "kernelspec": {
   "display_name": "Python 3 (ipykernel)",
   "language": "python",
   "name": "python3"
  },
  "language_info": {
   "codemirror_mode": {
    "name": "ipython",
    "version": 3
   },
   "file_extension": ".py",
   "mimetype": "text/x-python",
   "name": "python",
   "nbconvert_exporter": "python",
   "pygments_lexer": "ipython3",
   "version": "3.10.8"
  }
 },
 "nbformat": 4,
 "nbformat_minor": 5
}

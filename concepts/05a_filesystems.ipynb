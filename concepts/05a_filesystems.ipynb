{
 "cells": [
  {
   "cell_type": "markdown",
   "id": "5756fff5-85e5-4498-9101-406fe784b24f",
   "metadata": {},
   "source": [
    "# Title\n",
    "\n",
    "## Learning Objective\n",
    "\n",
    "Today we will be learning:\n",
    "\n",
    "* .\n",
    "\n",
    "## Success criteria\n",
    "\n",
    "By the end of this notebook, you will have been successful if:\n",
    "\n",
    "* .\n",
    "\n",
    "## Vocabulary\n",
    "\n",
    " Word | Definition \n",
    "------|------------\n",
    " word | def \n",
    "\n",
    "## Review\n",
    "\n",
    "Important concepts to recall are:\n",
    "\n",
    "* ."
   ]
  },
  {
   "cell_type": "code",
   "execution_count": null,
   "id": "5209e1a3-9fea-4d90-b801-8cb3f75a6192",
   "metadata": {},
   "outputs": [],
   "source": []
  }
 ],
 "metadata": {
  "kernelspec": {
   "display_name": "Python 3 (ipykernel)",
   "language": "python",
   "name": "python3"
  },
  "language_info": {
   "codemirror_mode": {
    "name": "ipython",
    "version": 3
   },
   "file_extension": ".py",
   "mimetype": "text/x-python",
   "name": "python",
   "nbconvert_exporter": "python",
   "pygments_lexer": "ipython3",
   "version": "3.10.8"
  }
 },
 "nbformat": 4,
 "nbformat_minor": 5
}

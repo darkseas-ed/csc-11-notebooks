{
 "cells": [
  {
   "cell_type": "markdown",
   "id": "d1b7529e-a104-4360-a17a-89a4d7dd1354",
   "metadata": {},
   "source": [
    "# Iteration (loops)\n",
    "\n",
    "Iteration is doing the same set of instructions again and again.</br>\n",
    "Iteration is doing the same set of instructions again and again.</br>\n",
    "Iteration is doing the same set of instructions again and again.</br>\n",
    "\n",
    "(see what I did there?)\n",
    "\n",
    "Recall from our short program `boom.py` our original countdown\n"
   ]
  },
  {
   "cell_type": "code",
   "execution_count": null,
   "id": "15a94ba6-0277-4ddd-95c0-fe25fdf1cde0",
   "metadata": {},
   "outputs": [],
   "source": [
    "print(10)\n",
    "print(9)\n",
    "print(8)\n",
    "print(7)"
   ]
  },
  {
   "cell_type": "markdown",
   "id": "75834add-5ff8-4d40-b269-74475f1d170d",
   "metadata": {},
   "source": [
    "Now this is perhaps *iteration* in its broadest definition, \n",
    "but we are really talking about the control structures of programming language\n",
    "which allow to execute many instructions without write them out by hand.\n",
    "\n",
    "In Python, we have a (possibly) indefinitely looping structure called `while` \n",
    "and a looping structure with a definite length called `for`.\n",
    "\n",
    "There are other ways that are used in Python to accomplish repeated instructions such as:\n",
    "\n",
    "* comprehension: a looping way to build lists and sets of things\n",
    "* recursion: using a function that repeatedly calls itself\n",
    "\n",
    "## `while`\n",
    "\n",
    "The `while` structure continues to loop **while** a condition remains True.\n",
    "This test is conducted at the start of the loop, so depending on that condition and how it changes, the loop can run for\n",
    "\n",
    "* zero times\n",
    "* one or many times\n",
    "* indefinitely a.k.a. an infinite loop\n",
    "\n",
    "![infinite-loop](./infinite-loop.gif)\n",
    "\n",
    "### Read the code\n",
    "\n",
    "Describe what this while loop is doing..\n",
    "\n",
    "What is the condition?\n",
    "\n",
    "How many times does it run?\n",
    "\n",
    "Are there any errors, and if so what type are they?"
   ]
  },
  {
   "cell_type": "code",
   "execution_count": null,
   "id": "545e7f9e-6e75-468d-ae8a-2cc6c0a5a408",
   "metadata": {},
   "outputs": [],
   "source": [
    "n = 10\n",
    "while n < 0:\n",
    "    print(n)\n",
    "    n = n - 1\n",
    "print(\"Boom\")"
   ]
  },
  {
   "cell_type": "markdown",
   "id": "f9c5cd85-05f4-44a0-ada0-aa4c3e53ad0f",
   "metadata": {},
   "source": [
    "Okay, this loop does not do what we expected.\n",
    "\n",
    "We can fix this by turning the comparison operator around; `<` -> `>`\n",
    "\n",
    "Has this fixed the code?  Try the code below and see.\n",
    "\n",
    "(You may want to press the little black square at the top of the notebook.  sorry...)"
   ]
  },
  {
   "cell_type": "code",
   "execution_count": null,
   "id": "64a90063-c50a-4f66-bec5-4325b12dc35a",
   "metadata": {},
   "outputs": [],
   "source": [
    "n = 10\n",
    "while n > 0:\n",
    "    print(n)\n",
    "    n += 1\n",
    "print(\"Boom\")"
   ]
  },
  {
   "cell_type": "markdown",
   "id": "25ee01d2-0258-472f-a757-3b16ef0bad86",
   "metadata": {},
   "source": [
    "Alright, I'm sorry for that, now the code below is really fixed. **really**"
   ]
  },
  {
   "cell_type": "code",
   "execution_count": null,
   "id": "8b0cc43b-fd89-4c23-b691-35a1b2fd71c8",
   "metadata": {},
   "outputs": [],
   "source": [
    "n = 10\n",
    "while n > 0:\n",
    "    n -= 1\n",
    "    print(n)\n",
    "print(\"Boom\")"
   ]
  },
  {
   "cell_type": "markdown",
   "id": "2eaebd68-2e85-4814-ae79-a6e7bbe9fd67",
   "metadata": {},
   "source": [
    "Which allows me to tell one of my favourite programming jokes.\n",
    "\n",
    "There are two hard things in computer science.\n",
    "\n",
    "1. Naming things\n",
    "2. Cache invalidation\n",
    "3. Off-by-one errors\n",
    "\n",
    "[Fowler 2009](https://www.martinfowler.com/bliki/TwoHardThings.html)\n",
    "\n",
    "So you see that there are some issues with using `while` loops.\n",
    "\n",
    "Another interesting construction you will see often is deliberately making an infinite loop, which begs the question\n",
    "\n",
    "    \"how to you exit and infinite loop?\"\n",
    "    \n",
    "    \n",
    "Recall that to stop an infinite loop as a *user* you can use Ctrl-C \n",
    "or the **stop** icon at the top of the notebook.\n",
    "\n",
    "### break\n",
    "\n",
    "To exit a loop in programmatically in Python we use the `break` statement.\n",
    "\n",
    "Break will exit the loop **at the bottom** of the loop, if you want to exit a loop early, but keep on to the next loop, you need the statement `continue`."
   ]
  },
  {
   "cell_type": "code",
   "execution_count": null,
   "id": "69e4492a-3c86-4956-b347-ae4cd476d066",
   "metadata": {},
   "outputs": [],
   "source": [
    "while True:\n",
    "    print(\"Please don't leave me here for ever\")\n",
    "    # break         \n",
    "print(\"Thank goodness, and end to all this.\")"
   ]
  },
  {
   "cell_type": "markdown",
   "id": "e5bb3266-4d52-48e8-b0ab-47baccaa5575",
   "metadata": {},
   "source": [
    "It is more usual to start an infinite loop to listen on a network socket until told to close it."
   ]
  },
  {
   "cell_type": "code",
   "execution_count": null,
   "id": "cc3757f2-fb1c-45d8-9d56-d1b50886c0c6",
   "metadata": {},
   "outputs": [],
   "source": [
    "messages = ['hello', 'world', 'goodbye', 'and', 'close', 'so', 'on']\n",
    "\n",
    "# starting conditions\n",
    "msg = ''\n",
    "i = 0\n",
    "\n",
    "while True:\n",
    "    if msg == 'close':  # check we don't need to close\n",
    "        break\n",
    "    msg = messages[i]   # Or print message\n",
    "    print(\"Message is: {}\".format(msg))\n",
    "    i += 1\n",
    "    "
   ]
  },
  {
   "cell_type": "markdown",
   "id": "aff81304-4654-46a7-a7e7-942e6932eee0",
   "metadata": {},
   "source": [
    "Now if we actually had a list of messages `[.., .., ]`\n",
    "instead of an infinite stream of messages, we would use\n",
    "the looping construct `for`.\n",
    "\n",
    "## `for`\n",
    "\n",
    "The `for` loop is a much more common construction in Python because it sidesteps\n",
    "many of the issues of the `while` loop.\n",
    "\n",
    "It does require a collection of things to iterate over, however. </br>\n",
    "But Python will let you iterate over just about anything:\n",
    "\n",
    "* letters in a string\n",
    "* lines in a file\n",
    "* items in a list or set\n",
    "* keys in a dictionary\n",
    "* cells, rows and columns of an array\n",
    "* elements of an infinite list or stream"
   ]
  },
  {
   "cell_type": "code",
   "execution_count": null,
   "id": "1ea29496-9c57-491d-a5f8-992bc09aabf6",
   "metadata": {},
   "outputs": [],
   "source": [
    "# letters in a string\n",
    "message = \"Hello world!\"\n",
    "for letter in message:\n",
    "    print(letter)\n",
    "    "
   ]
  },
  {
   "cell_type": "code",
   "execution_count": null,
   "id": "91e73e5c-69e2-47bd-9bfd-9b0fd1fd725b",
   "metadata": {},
   "outputs": [],
   "source": [
    "# lines in a file\n",
    "with open(\"hello.txt\") as src:\n",
    "    for line in src:\n",
    "        print(line)\n",
    "        "
   ]
  },
  {
   "cell_type": "code",
   "execution_count": null,
   "id": "c27f7306-9be5-4bd4-9e63-77cbce176508",
   "metadata": {},
   "outputs": [],
   "source": [
    "# items in a list or set\n",
    "\n",
    "mylist = [0, True, 3.141592654, \"Boom\", ['a', 'b', 'c']]\n",
    "for item in mylist:\n",
    "    print(item)\n",
    "   "
   ]
  },
  {
   "cell_type": "code",
   "execution_count": null,
   "id": "05af7a72-9766-40af-8f8e-905c95c27d53",
   "metadata": {},
   "outputs": [],
   "source": [
    "# Rows in an array \n",
    "import numpy as np\n",
    "\n",
    "nums = np.arange(60).reshape(4, 15)\n",
    "for row in nums:\n",
    "    print(row)\n",
    "# Did you get an error from importing numpy?"
   ]
  },
  {
   "cell_type": "code",
   "execution_count": null,
   "id": "a85c2102-5d2b-4976-bd5a-818d7687e394",
   "metadata": {},
   "outputs": [],
   "source": [
    "mydict = {'a': 'apple', 'b': 'banana', 'c': 'calabash'}\n",
    "\n",
    "for key in mydict:\n",
    "    val = mydict[key]\n",
    "    print(key)\n",
    "    print(val)\n",
    "    "
   ]
  },
  {
   "cell_type": "markdown",
   "id": "80ddcf43-b5b4-4a44-82ab-41dd90594ca7",
   "metadata": {},
   "source": [
    "We can generate a list of numbers with the function `range`"
   ]
  },
  {
   "cell_type": "code",
   "execution_count": null,
   "id": "bde57167-a1cf-47d2-8512-540b6cfce6ac",
   "metadata": {},
   "outputs": [],
   "source": [
    "range?"
   ]
  },
  {
   "cell_type": "code",
   "execution_count": null,
   "id": "317e62d4-f1b1-451a-bad3-b135fac21f14",
   "metadata": {},
   "outputs": [],
   "source": [
    "for i in range(10):\n",
    "    print(i)"
   ]
  },
  {
   "cell_type": "markdown",
   "id": "fada2890-708c-4f43-b859-9a88693343fe",
   "metadata": {},
   "source": [
    "Why do we not see the number 10 printed out?\n",
    "\n",
    "Let's first look at the signature of the `range` function.\n",
    "\n",
    "\n",
    "    range(stop) -> range object\n",
    "    range(start, stop[, step]) -> range object\n",
    "    \n",
    "    \n",
    "You can call `range` with one argument which will be used as the `stop` point.\n",
    "\n",
    "Or you can call it with two arguments `start` and `stop`\n",
    "\n",
    "or optionally `[ ]`, with a `step` to say how often to give a number. \n",
    "\n",
    "One other thing to note is that we sometimes have to turn the range object into the collection that we want.\n",
    "\n",
    "Try ..."
   ]
  },
  {
   "cell_type": "code",
   "execution_count": null,
   "id": "d7c1f3b5-6a08-488d-a56a-8c392b954773",
   "metadata": {},
   "outputs": [],
   "source": [
    "print(range(10))"
   ]
  },
  {
   "cell_type": "code",
   "execution_count": null,
   "id": "9a3d089b-5622-464e-969b-ac24edff4836",
   "metadata": {},
   "outputs": [],
   "source": [
    "print(list(range(10)))"
   ]
  },
  {
   "cell_type": "markdown",
   "id": "064148a9-d599-4064-b808-c9fb015bae9a",
   "metadata": {},
   "source": [
    "You can use the same keywords `break` and `continue` to exit a `for` loop.\n",
    "\n",
    "Read the code below and comment each line."
   ]
  },
  {
   "cell_type": "code",
   "execution_count": null,
   "id": "3d7b97af-2725-44c8-b296-9cc1f3542315",
   "metadata": {},
   "outputs": [],
   "source": [
    "# 1.\n",
    "count = list(range(100, 0, -1))\n",
    "# 2.\n",
    "for i in count:\n",
    "    if i % 2 == 0:    # what are we testing for here?\n",
    "        continue      # what is the next line after this\n",
    "    print(i)\n",
    "    if i < 80:\n",
    "        break\n",
    "        "
   ]
  },
  {
   "cell_type": "markdown",
   "id": "c18e6df4-e81a-45cc-93e3-8c2f1b8f5467",
   "metadata": {},
   "source": [
    "## Try ... catch ..\n",
    "\n",
    "The format of try/catch construct is\n",
    "\n",
    "    try:\n",
    "        <code which might have an error>\n",
    "    except <ExpectedError>:\n",
    "        <code to deal with the error>\n",
    "        \n",
    "    "
   ]
  },
  {
   "cell_type": "code",
   "execution_count": null,
   "id": "24d89ad2-6e31-490c-961a-93f955f58c92",
   "metadata": {},
   "outputs": [],
   "source": [
    "try:\n",
    "    age = int(input(\"What is your age?\"))\n",
    "    height = int(input(\"How tall are you?\"))\n",
    "    avg_growth = height / age\n",
    "except:\n",
    "    print(\"Something went wrong\")"
   ]
  },
  {
   "cell_type": "markdown",
   "id": "2dcd8818-10f9-4053-89b8-b914dbb4669e",
   "metadata": {},
   "source": [
    "## Relational Operators\n",
    "\n",
    "We have been using "
   ]
  },
  {
   "cell_type": "code",
   "execution_count": null,
   "id": "903ace66-4403-4ad4-adce-c9ee0f300406",
   "metadata": {},
   "outputs": [],
   "source": []
  },
  {
   "cell_type": "code",
   "execution_count": null,
   "id": "c9de632b-9017-4e82-8919-d2141e487b48",
   "metadata": {},
   "outputs": [],
   "source": []
  },
  {
   "cell_type": "code",
   "execution_count": null,
   "id": "c897c791-4632-4cb1-9bf9-5da0c4b6f1a1",
   "metadata": {},
   "outputs": [],
   "source": []
  }
 ],
 "metadata": {
  "kernelspec": {
   "display_name": "Python 3 (ipykernel)",
   "language": "python",
   "name": "python3"
  },
  "language_info": {
   "codemirror_mode": {
    "name": "ipython",
    "version": 3
   },
   "file_extension": ".py",
   "mimetype": "text/x-python",
   "name": "python",
   "nbconvert_exporter": "python",
   "pygments_lexer": "ipython3",
   "version": "3.10.8"
  }
 },
 "nbformat": 4,
 "nbformat_minor": 5
}

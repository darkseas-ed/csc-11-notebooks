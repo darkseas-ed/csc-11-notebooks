{
 "cells": [
  {
   "cell_type": "markdown",
   "id": "11616253-5cfb-4666-b03a-b978b39720e0",
   "metadata": {},
   "source": [
    "# Sequence\n",
    "\n",
    "Sequence means an ordered set of instructions.\n",
    "\n",
    "- ordered: one happens after another\n",
    "- set: many or multiple related instructions\n",
    "- instructions: commands to manipulate data or cause actions\n",
    "\n",
    "### Read the code\n",
    "\n",
    "What is happening in the code below?\n",
    "\n",
    "Add comments wherever you see the hashtag."
   ]
  },
  {
   "cell_type": "code",
   "execution_count": null,
   "id": "30c02c28-ecb5-4bc7-a656-3c4922856855",
   "metadata": {},
   "outputs": [],
   "source": [
    "## What control structure is this?\n",
    "#\n",
    "print(10)\n",
    "print(9)\n",
    "print(8)\n",
    "print(7)\n",
    "# ...\n",
    "print(\"Boom\")"
   ]
  },
  {
   "cell_type": "markdown",
   "id": "d1f54142-6153-4adf-b3c8-2ab475683f31",
   "metadata": {},
   "source": [
    "## Fix the code\n",
    "\n",
    "Find any syntax or logical errors in the code and fix it."
   ]
  },
  {
   "cell_type": "code",
   "execution_count": null,
   "id": "7b88f700-1999-4745-9274-a6f199bd29c5",
   "metadata": {},
   "outputs": [],
   "source": [
    "#\n",
    "print(\"Boom')\n",
    "print(10)\n",
    "print(7)\n",
    "print(8)\n",
    "print(9\n",
    "# ...\n"
   ]
  },
  {
   "cell_type": "markdown",
   "id": "f47f49d2-c14e-42a6-8cc0-c196e50aaa9d",
   "metadata": {},
   "source": [
    "### Write some code\n",
    "\n",
    "Now can you write some code that\n",
    "\n",
    "- prints each Year of school and the likely age of a student\n",
    "\n",
    "Can you link the age and the year of the student to one variable?"
   ]
  },
  {
   "cell_type": "code",
   "execution_count": null,
   "id": "31622a70-f6e0-4536-b7d1-9effbf65ec5e",
   "metadata": {},
   "outputs": [],
   "source": [
    "# Write and comment your code below\n",
    "\n",
    "\n",
    "\n",
    "\n",
    "\n",
    "\n"
   ]
  },
  {
   "cell_type": "markdown",
   "id": "fb240268-85e6-4996-9ce5-98278f462687",
   "metadata": {},
   "source": [
    "## Datatypes\n",
    "\n",
    "Python is a dynamic language, which means that the type of each variable is not fixed.\n",
    "Other languages like the C family are static which means while variables may change in values but not type.\n",
    "\n",
    "So a datatype tell you which features of a value are common to all values.\n",
    "\n",
    "What features are common to all integers but not floats for example?\n",
    "\n",
    "We can usually convert between types in Python with small functions, but the values must be compatible!\n",
    "\n",
    "### Read the code\n",
    "\n",
    "Comment the code to name the datatype of the variable.\n",
    "\n",
    "Why are we changing the type of `age_graduation`?"
   ]
  },
  {
   "cell_type": "code",
   "execution_count": null,
   "id": "2235794d-c686-4cfd-9daa-f7a8105ae0a3",
   "metadata": {},
   "outputs": [],
   "source": [
    "age_start_primary = 5.0    # type is ...\n",
    "years_at_school = 12       # type is ...\n",
    "age_graduation = age_start_primary + years_at_school # type is ...\n",
    "still_young = age_graduation < 21  # type is ...\n",
    "\n",
    "age_graduation = str(age_graduation)  # type is ...\n",
    "msg = \"You will still be young if you are \" + age_graduation + \" yrs old.\" # type is ...\n",
    "print(msg)"
   ]
  },
  {
   "cell_type": "markdown",
   "id": "d3e2c89d-cd13-442a-b192-03cff7d34367",
   "metadata": {},
   "source": [
    "## Fix the code"
   ]
  },
  {
   "cell_type": "code",
   "execution_count": null,
   "id": "1141c180-cf2f-4772-8256-4f3b9c417954",
   "metadata": {},
   "outputs": [],
   "source": [
    "retirement_age = '65'\n",
    "age_at_death = retirement_age + 20. # years\n",
    "\n",
    "print(\"You will have had a good life if you live till {}\".format(age_at_death))"
   ]
  },
  {
   "cell_type": "markdown",
   "id": "80e2a841-d39a-45d5-9752-be549a0eab6d",
   "metadata": {},
   "source": [
    "## Operators\n",
    "\n",
    "Operators are symbols that are used between to **operate** or combine values.\n",
    "\n",
    "By symbols, we mean all the characters on your keyboard that are not letters or numbers e.g. `+`, `^` or `>`. \n",
    "Often more than one character can be used in an operator, like `==`\n",
    "\n",
    "You will be familiar with many operators from maths, but there may be a couple that you haven't used before.\n",
    "\n",
    "Try some example in the notebook cells to see what they do.\n",
    "\n",
    "![maths-operators](./math-operator-table.png)"
   ]
  },
  {
   "cell_type": "code",
   "execution_count": null,
   "id": "39f9a53b-8469-4bb2-90f1-60546f8c4a9b",
   "metadata": {},
   "outputs": [],
   "source": [
    "5 // 2"
   ]
  },
  {
   "cell_type": "code",
   "execution_count": null,
   "id": "e47c6aa5-1a4d-4742-88ca-b4b213506157",
   "metadata": {},
   "outputs": [],
   "source": [
    "5 % 2"
   ]
  },
  {
   "cell_type": "code",
   "execution_count": null,
   "id": "90ef9ba9-73e8-46a2-84fa-dae23032795f",
   "metadata": {},
   "outputs": [],
   "source": []
  },
  {
   "cell_type": "code",
   "execution_count": null,
   "id": "e0e76a30-373f-4b05-a1ee-8b9506a8f998",
   "metadata": {},
   "outputs": [],
   "source": []
  },
  {
   "cell_type": "code",
   "execution_count": null,
   "id": "284cdd7a-cdeb-4361-a888-322dbebfa846",
   "metadata": {},
   "outputs": [],
   "source": []
  },
  {
   "cell_type": "code",
   "execution_count": null,
   "id": "f7fe7de0-5c0f-48e3-b7ba-4540420ce9db",
   "metadata": {},
   "outputs": [],
   "source": []
  },
  {
   "cell_type": "code",
   "execution_count": null,
   "id": "a649828c-dd52-4a37-a285-5a8604c828f9",
   "metadata": {},
   "outputs": [],
   "source": []
  }
 ],
 "metadata": {
  "kernelspec": {
   "display_name": "Python 3 (ipykernel)",
   "language": "python",
   "name": "python3"
  },
  "language_info": {
   "codemirror_mode": {
    "name": "ipython",
    "version": 3
   },
   "file_extension": ".py",
   "mimetype": "text/x-python",
   "name": "python",
   "nbconvert_exporter": "python",
   "pygments_lexer": "ipython3",
   "version": "3.10.8"
  }
 },
 "nbformat": 4,
 "nbformat_minor": 5
}

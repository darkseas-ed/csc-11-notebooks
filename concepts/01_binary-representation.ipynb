{
 "cells": [
  {
   "cell_type": "markdown",
   "id": "1692c313-1545-4e7d-9d76-2c61f066e115",
   "metadata": {},
   "source": [
    "# Numbers Text and Images Represented as Binary Code\n",
    "## Review\n",
    "\n",
    "What is the importance of this concept? (So What!)\n",
    "\n",
    "What are characters?\n",
    "\n",
    "What is binary?\n",
    "\n",
    "What is a radix, or a number base?\n",
    "\n",
    "## Learning objectives\n",
    "\n",
    "Characters, words and messages are represented as binary\n",
    "numbers in the storage and transmission of data.  \n",
    "\n",
    "## Success criteria\n",
    "\n",
    "1. Identify binary, decimal and hexadecimal numbers and convert them\n",
    "2. Complete the missing fields of the ASCII table\n",
    "3. Contrast the binary structure of bitmap and PNG images.\n",
    "\n",
    "## Vocubulary\n",
    "\n",
    "digital :: data using discrete values, that is values are are separate and distinct\n",
    "\n",
    "analogue :: data using continuously variable signal or values\n",
    "\n",
    "binary :: a number system with two distinct values\n",
    "\n",
    "bit :: a single **bi**nary dig**it**\n",
    "\n",
    "decimal :: a number written in base 10, or in tenths.\n",
    "\n",
    "hexadecimal :: a number written in base 16.\n",
    "\n",
    "## Overview\n",
    "\n",
    "One of the key understandings of our IT classes has been that numbers, text and\n",
    "images are represented in our computer systems as binary code. Whether the data\n",
    "is at rest; in files on a thumb-drive, hard disk or cloud drive, or in transit as\n",
    "packets, messages and web-pages; that data is represented in a binary digital form.\n",
    "\n",
    "It's digital because it discrete, defined values, and binary because it based\n",
    "upon **two** discrete levels; usually represented as high/low, or on/off, or 1/0.\n",
    "\n",
    "Data does not have be stored in a digital form; LP records and audio magnetic\n",
    "tapes are examples of analogue storage. Data does not have to be transmitted as\n",
    "a digital signal either; AM/FM radio or even ADSL (at its most fundamental\n",
    "level) are analogue signals. \n",
    "We use digital signals and storage because they are more robust to noise and\n",
    "signal loss, and allow higher transmission rates and distance.\n",
    "\n",
    "We can use other more convenient number systems even though \n",
    "binary is used at the lowest levels of hardware and software, \n",
    "\n",
    "## Number as binary\n",
    "\n",
    "![tim-tams](../images/tim-tams.png)\n",
    "\n",
    "**Think-Pair-Share**\n",
    "\n",
    "How many biscuits are there in a packet of Original TimTams?\n",
    "Why do you think that is?\n",
    "\n",
    "\n",
    "**Think** Take one minute to think why this might be so </br>\n",
    "**Pair** Take 2 minutes to discuss this with a partner </br>\n",
    "**Share** We'll spare 3 minutes to discuss this a group\n",
    "\n",
    "### Number systems\n",
    "\n",
    "Many older number systems, like\n",
    "[Imperial Units](https://en.wikipedia.org/wiki/Imperial_units)\n",
    "use groupings of 12 or 16 because they are divisible by many factors.\n",
    "These units often used convenient multiples for division,\n",
    "with 3s, 4s, 12s and even 16ths common.   \n",
    "\n",
    "Think about a family pizza that is cut into 12ths.\n",
    "It's relatively easy to cut, and easy to share among 12, 6,\n",
    "4, 3 or two people (or by yourself if you are\n",
    "super-hungry!).\n",
    "\n",
    "![pizza-twelfths](../images/pizza-twelfths.png)\n",
    "\n",
    "We use tally systems of fives like the fingers on one; or tens, like the fingers on two.\n",
    "But the simplest possible numbers systems involves just groups of binary values."
   ]
  },
  {
   "cell_type": "markdown",
   "id": "833e74a6-d6e0-4940-9d3d-d7ac95b02ca8",
   "metadata": {},
   "source": [
    "#### Binary\n",
    "\n",
    "Binary uses just two values, usually represented as 0 and 1. \n",
    "Off and on, high and low can also be used. \n",
    "But these numbers are difficult to read and write for humans.\n",
    "\n",
    "Decimal numbers with a base of 10, or hexadecimal (base 16) are much easier for humans to use.\n",
    "Python can help us to convert between them.\n",
    "\n",
    "**Literals** are values that literally mean waht they say.\n",
    "\n",
    "Binary integer literals are prefixed by `0b`, and hexidecimal by `0x`.\n",
    "\n",
    "Number Base| Number System | Prefix | Example\n",
    ":---:|:---:|:---:|:---:\n",
    "2  | binary      | 0b   | 0b1111\n",
    "10 | decimal     | none | 15\n",
    "16 | hexadecimal | 0x   | 0x0f\n",
    "2  | binary      | 0b   | 0b1111 1111\n",
    "10 | decimal     | none | 255\n",
    "16 | hexadecimal | 0x   | 0xff"
   ]
  },
  {
   "cell_type": "markdown",
   "id": "d857443b-0bc5-4c8e-b835-0b1d48450fb1",
   "metadata": {},
   "source": [
    "![number-literals](../images/number-literals-table.png)\n",
    "\n",
    "### Read the code\n",
    "\n",
    "Read the code below and add comments above each line to explain what is happening."
   ]
  },
  {
   "cell_type": "code",
   "execution_count": null,
   "id": "908dfb60-59b2-4fb7-9f9f-507ed73ea2ec",
   "metadata": {},
   "outputs": [],
   "source": [
    "# Read and comment the code, recall any line starting with `#` is ignored\n",
    "\n",
    "# \n",
    "age_at_school_start = 0b1011\n",
    "#  \n",
    "years_at_school = 0x06\n",
    "# \n",
    "age_at_graduation = age_at_school_start + years_at_school\n",
    "# \n",
    "print(\"After {} years at school, students are usually {} years old.\".format(\n",
    "    years_at_school, age_at_graduation))"
   ]
  },
  {
   "cell_type": "code",
   "execution_count": null,
   "id": "df224cb5-f016-4999-ac5b-f20f3f77dcae",
   "metadata": {},
   "outputs": [],
   "source": [
    "# \n",
    "age_bin = bin(age_at_graduation)\n",
    "# \n",
    "print(\"This age is represented in binary as {}\".format(age_bin))"
   ]
  },
  {
   "cell_type": "code",
   "execution_count": null,
   "id": "6136a721-5895-452e-85dc-e4c8e256b1ef",
   "metadata": {},
   "outputs": [],
   "source": [
    "# \n",
    "age_hex = hex(age_at_graduation)\n",
    "# \n",
    "print(\"This age is represented in hexadecimal as {}\".format(age_bin))"
   ]
  },
  {
   "cell_type": "code",
   "execution_count": null,
   "id": "88edbe5e-c8f2-4b05-b662-6e99a0f3b0f4",
   "metadata": {},
   "outputs": [],
   "source": [
    "0b1011"
   ]
  },
  {
   "cell_type": "code",
   "execution_count": null,
   "id": "d2869b01-6904-4fe2-bbcb-c948382260c4",
   "metadata": {},
   "outputs": [],
   "source": [
    "0xff"
   ]
  },
  {
   "cell_type": "code",
   "execution_count": null,
   "id": "f7b5fcbe-60b5-4466-a3fc-e506f12b6dfb",
   "metadata": {},
   "outputs": [],
   "source": [
    "bin(255)"
   ]
  },
  {
   "cell_type": "code",
   "execution_count": null,
   "id": "09e26261-a715-4155-b539-1672ea92b345",
   "metadata": {},
   "outputs": [],
   "source": [
    "hex(11)"
   ]
  },
  {
   "cell_type": "code",
   "execution_count": null,
   "id": "bed2fd22-6a1f-48fd-b237-614e82b809be",
   "metadata": {},
   "outputs": [],
   "source": [
    "hex??"
   ]
  },
  {
   "cell_type": "markdown",
   "id": "f31cf2c3-7b6a-4787-b675-2b8db0666215",
   "metadata": {},
   "source": [
    "### Fix the code\n",
    "The code below almost works. </br>\n",
    "Can you correct the errors to make it run, and make sense?\n",
    "\n",
    "You may find the information about the colour purple on\n",
    "[this webpage](https://www.rapidtables.com/web/color/purple-color.html)\n",
    "useful."
   ]
  },
  {
   "cell_type": "code",
   "execution_count": null,
   "id": "78dfcd90-361e-4e00-8548-d44b2c45d52e",
   "metadata": {},
   "outputs": [],
   "source": [
    "# Purple is a colour made from red and blue.\n",
    "# A large amount of red would be ...\n",
    "r = 255\n",
    "# A small amount of green would be ...\n",
    "g = 25\n",
    "# A large of amount of blue would be ...\n",
    "b = 25\n",
    "\n",
    "# as hex the red would be represented as\n",
    "rh = hex(r)   # what type of variable is this? see Hint 1 below\n",
    "bh = hex(g)\n",
    "bh = hex(b)\n",
    "\n",
    "# Combined, color code would be ...\n",
    "print(\"The hex colour code for purple is #{}{}{}.\".format(rh, bh, gh))\n",
    "# I don't need the whole hex colour, just the characters from position 2\n",
    "# See Hint 2 below\n"
   ]
  },
  {
   "cell_type": "code",
   "execution_count": null,
   "id": "cbf3366f-8d87-4f88-9dc2-f130d41d44fd",
   "metadata": {},
   "outputs": [],
   "source": [
    "# Hint 1 - How to find the type of a variable\n",
    "type(rh)"
   ]
  },
  {
   "cell_type": "code",
   "execution_count": null,
   "id": "8ea9f1ac-30e4-449e-9f74-ac5073b88cb7",
   "metadata": {},
   "outputs": [],
   "source": [
    "rh[2:]"
   ]
  },
  {
   "cell_type": "markdown",
   "id": "d8e958eb-1cde-43fd-847a-babfb759fe67",
   "metadata": {},
   "source": [
    "### Write some code\n",
    "\n",
    "In the cell below, write some code that accepts a number and prints its binary representation.\n",
    "\n",
    "Bonus: Do you need to use specific types? How will you check?"
   ]
  },
  {
   "cell_type": "code",
   "execution_count": null,
   "id": "58cd5556-6fa6-4883-b78c-38e045ca0a28",
   "metadata": {},
   "outputs": [],
   "source": [
    "# Write your code here.\n",
    "\n",
    "\n",
    "\n",
    "\n"
   ]
  },
  {
   "cell_type": "code",
   "execution_count": null,
   "id": "bed4be32-f671-4118-816c-d87f5443801f",
   "metadata": {},
   "outputs": [],
   "source": []
  },
  {
   "cell_type": "markdown",
   "id": "c693b963-71a4-4c3f-a65c-e5edd3d02d1b",
   "metadata": {},
   "source": [
    "## Text as Binary\n",
    "\n",
    "Binary code is used  as code for letters in text.\n",
    "In Python, we can interrogate both ASCII and Unicode text.\n",
    "\n",
    "Hex editors allow us to look at the bytes of a file\n",
    "\n",
    "### Ascii and Unicode\n",
    "\n",
    "#### Literals\n",
    "\n",
    "#### Conversion functions `chr`, `ord`\n",
    "\n",
    "### Hex Editor"
   ]
  },
  {
   "cell_type": "code",
   "execution_count": null,
   "id": "8bc28f15-4b06-42c2-8690-a3fe9e733ad8",
   "metadata": {},
   "outputs": [],
   "source": []
  },
  {
   "cell_type": "markdown",
   "id": "cc7964c7-d98a-4d8e-ad53-1a002a816187",
   "metadata": {},
   "source": [
    "## Images as Binary\n",
    "\n",
    "Hex-editors can also allow us to see the binary representations colour-codes and pixels within an image.\n",
    "\n",
    "This image is a bitmap image.\n",
    "\n",
    "![squares-bitmap](../../images/simple_texture.bmp)\n",
    "\n",
    "This image is the same PNG image.\n",
    "\n",
    "![squares-png](../../images/simple_texture.png)\n",
    "\n",
    "Can you see a difference in the size of these images?\n",
    "\n",
    "Can you see a difference in the binary structure of them?"
   ]
  },
  {
   "cell_type": "code",
   "execution_count": null,
   "id": "1f90b55d-b7d9-4ab5-982d-696e725ae9e6",
   "metadata": {},
   "outputs": [],
   "source": []
  },
  {
   "cell_type": "code",
   "execution_count": null,
   "id": "2ba26ad3-46cd-4892-9d71-c4124ffad714",
   "metadata": {},
   "outputs": [],
   "source": []
  },
  {
   "cell_type": "code",
   "execution_count": null,
   "id": "d4040487-21cf-422e-a1c9-f8bf4f7edb8e",
   "metadata": {},
   "outputs": [],
   "source": []
  }
 ],
 "metadata": {
  "kernelspec": {
   "display_name": "Python 3 (ipykernel)",
   "language": "python",
   "name": "python3"
  },
  "language_info": {
   "codemirror_mode": {
    "name": "ipython",
    "version": 3
   },
   "file_extension": ".py",
   "mimetype": "text/x-python",
   "name": "python",
   "nbconvert_exporter": "python",
   "pygments_lexer": "ipython3",
   "version": "3.10.8"
  }
 },
 "nbformat": 4,
 "nbformat_minor": 5
}

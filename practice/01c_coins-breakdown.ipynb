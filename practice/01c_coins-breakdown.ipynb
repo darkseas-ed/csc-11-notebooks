{
 "cells": [
  {
   "cell_type": "markdown",
   "id": "915b2cd4-ffc0-410d-a922-a10ae3e3f2a1",
   "metadata": {},
   "source": [
    "# Practice Problems\n",
    "\n",
    "In this practice problem, we will practice\n",
    "* pseudocode\n",
    "* appropriate scope\n",
    "* validating inputs\n",
    "* modular programming"
   ]
  },
  {
   "cell_type": "markdown",
   "id": "9eb325f9-99e0-4d29-9fd7-e2e4e4bf1b44",
   "metadata": {},
   "source": [
    "# Problem 001      \n",
    "## “1001 Coins”\n",
    " \n",
    "1. There are 1001 5c coins lined up on a table.\n",
    "\n",
    "2. I come along and replace every second coin with a 10c coin.\n",
    "\n",
    "3. Then I replace every third coin with a 20c coin.\n",
    "\n",
    "4. Finally, I replace every fourth coin with a 50c coin.\n",
    "\n",
    "5. How much money is on the table?\n",
    " "
   ]
  },
  {
   "cell_type": "markdown",
   "id": "dd96d3f9-9951-4743-b77d-c07e5a4486cb",
   "metadata": {},
   "source": [
    "Instead of 1001 coins we will begin with 11 coins.\n",
    "\n",
    "## Step 1 - Pseudocode \n",
    "The pseudocode for Step 1 might look like this.\n",
    "\n",
    "```\n",
    "1a. number_of_coins <- 11\n",
    "1b. Make an empty array, arr, with length number_of_coins\n",
    "1c. FOR i <- 0 TO number_of_coins\n",
    "        arr[i] <- 5\n",
    "    ENDFOR\n",
    "```"
   ]
  },
  {
   "cell_type": "markdown",
   "id": "436a61e7-50dc-4d0f-91c2-615a3ad4ffce",
   "metadata": {},
   "source": [
    "## Step 1 - IRL\n",
    "Now we will do this IRL with blocks and graph paper.\n",
    "\n",
    "* 1a. Count out 11 squares\n",
    "* 1b. Draw and label the 11 squares from 0 to 10.\n",
    "* 1c. Add a coloured block to represent 5c\n"
   ]
  },
  {
   "cell_type": "markdown",
   "id": "fa8135fc-87b9-4974-8370-0d47d4e9f44d",
   "metadata": {},
   "source": [
    "## Step 1 - Python\n",
    "Now we will translate this into Python."
   ]
  },
  {
   "cell_type": "code",
   "execution_count": null,
   "id": "add72695-2a7a-4f00-a6ef-51bba9566e53",
   "metadata": {},
   "outputs": [],
   "source": [
    "import numpy as np\n",
    "\n",
    "NUMBER_OF_COINS = 11             # 1a\n",
    "arr = np.zeros(NUMBER_OF_COINS)  # 1b\n",
    "\n",
    "for i in range(NUMBER_OF_COINS): # 1c\n",
    "    arr[i] = 5\n",
    "    \n",
    "arr"
   ]
  },
  {
   "cell_type": "markdown",
   "id": "6b52b6c1-2ea7-4560-9070-93da8a0faea4",
   "metadata": {},
   "source": [
    "Does this array of coins look right?\n",
    "\n",
    "Does the array in Python and the array IRL look alike?\n"
   ]
  },
  {
   "cell_type": "markdown",
   "id": "14f7615f-8d6d-4514-ae63-9130220c3407",
   "metadata": {},
   "source": [
    "## Step 2 - Pseudocode\n",
    "\n",
    "We need to translate the step\n",
    "\n",
    "    I come along and replace every second coin with a 10c coin.\n",
    "    \n",
    "with pseudocode.\n",
    "```\n",
    "    FOR each element at index `i`\n",
    "        IF `i` is divisible by 2 THEN\n",
    "            `array[i]` <- 10\n",
    "        ENDIF\n",
    "    ENDFOR\n",
    "```"
   ]
  },
  {
   "cell_type": "markdown",
   "id": "25e28556-96da-46b4-a485-30bd5c333ecc",
   "metadata": {},
   "source": [
    "## Step 2 - IRL\n",
    "\n",
    "Is this right?\n",
    "\n",
    "Let's try this with our IRL array.\n",
    "\n",
    "    I come along and replace every second coin with a 10c coin.\n",
    "    \n",
    "Choose a different color for a 10c piece and replace every second square with it.\n",
    "\n",
    "What indices (or indexes) have you changed?\n",
    "\n",
    "Perhaps we need to update our pseudocode a little.\n",
    "\n",
    "Can you write down what you just did?\n",
    "\n",
    "How did you know which squares to swap?\n"
   ]
  },
  {
   "cell_type": "markdown",
   "id": "d7028d61-4970-44fd-b115-71a32d7e5c41",
   "metadata": {},
   "source": [
    "### Python operator modulo or `%`\n",
    "\n",
    "Recall an **operator** is a symbol (usually) used between two values to conduct an operation.\n",
    "\n",
    "Examples include plus `+`, minus `-` and divide `/`.\n",
    "\n",
    "We can use modulo `%` to find if a number can be divided evenly by a factor."
   ]
  },
  {
   "cell_type": "code",
   "execution_count": null,
   "id": "805fbb46-7bc5-4cdb-91c7-d964f78bc1f8",
   "metadata": {},
   "outputs": [],
   "source": [
    "5 % 2"
   ]
  },
  {
   "cell_type": "code",
   "execution_count": null,
   "id": "26e385fb-457d-4b8b-996e-4a1b8cb0041d",
   "metadata": {},
   "outputs": [],
   "source": [
    "0 % 2"
   ]
  },
  {
   "cell_type": "code",
   "execution_count": null,
   "id": "9de375f4-6201-4898-812e-cd853de2cc07",
   "metadata": {},
   "outputs": [],
   "source": [
    "-2 % 2"
   ]
  },
  {
   "cell_type": "markdown",
   "id": "65d82318-3092-44da-8bf2-687caa9cb9f0",
   "metadata": {},
   "source": [
    "Can we use this to find every second coin? Or every third?\n",
    "\n",
    "For index `i` of 1 in an array do we want to swap a coin?"
   ]
  },
  {
   "cell_type": "code",
   "execution_count": null,
   "id": "bbacccdf-a027-4734-a02e-db6c9a8c69a6",
   "metadata": {},
   "outputs": [],
   "source": [
    "i = 1\n",
    "\n",
    "i % 2 == 0"
   ]
  },
  {
   "cell_type": "markdown",
   "id": "11f5b185-febf-425e-8056-4c62b3552244",
   "metadata": {},
   "source": [
    "## Step 2 - Python\n",
    "\n",
    "Let' see if we can use this the next step for Python.\n",
    "\n",
    "```\n",
    "    FOR each element at index `i`\n",
    "        IF (i-1) is divisible by 2 THEN\n",
    "            `array[i]` <- 10\n",
    "        ENDIF\n",
    "    ENDFOR\n",
    "```"
   ]
  },
  {
   "cell_type": "code",
   "execution_count": null,
   "id": "4502223c-dc37-4334-ace2-e3b3d57ee9a6",
   "metadata": {},
   "outputs": [],
   "source": [
    "for i in range(NUMBER_OF_COINS):\n",
    "    if (i - 1) % 2 == 0:\n",
    "        arr[i] = 10\n",
    "        \n",
    "arr"
   ]
  },
  {
   "cell_type": "markdown",
   "id": "d868ac5c-d0e0-4132-b9c3-100f6742cce7",
   "metadata": {},
   "source": [
    "## Modular programming\n",
    "\n",
    "I don't know about you, but\n",
    "\n",
    "    (i - 1) % 2 == 0\n",
    "    \n",
    "does not scream every second coin to me. And we are going to need to use code like this again soon.\n",
    "\n",
    "Let's make a function with a sensible name to do the same thing.\n",
    "\n",
    "Recall that a function looks like\n",
    "\n",
    "```\n",
    "def funcname(arg1):\n",
    "    actions()\n",
    "    return result\n",
    "\n",
    "```\n",
    "\n",
    "We want \n",
    "* a function called `every_2nd` \n",
    "* takes input index `i`\n",
    "* return True is we should swap the coin\n"
   ]
  },
  {
   "cell_type": "code",
   "execution_count": null,
   "id": "27f583ad-6ae9-49a1-8e55-e628081ed19c",
   "metadata": {},
   "outputs": [],
   "source": [
    "\n",
    "def every_2nd(i):\n",
    "    return True\n",
    "\n"
   ]
  },
  {
   "cell_type": "markdown",
   "id": "30b077e0-8797-4b66-a494-5b1cac127a4e",
   "metadata": {},
   "source": [
    "Then we can test it using our inputs"
   ]
  },
  {
   "cell_type": "code",
   "execution_count": null,
   "id": "0c235e52-616d-4b6b-9062-1f855f16d65e",
   "metadata": {},
   "outputs": [],
   "source": [
    "every_2nd(0)"
   ]
  },
  {
   "cell_type": "code",
   "execution_count": null,
   "id": "eca6632e-0422-4640-aeac-0dd7aefbd0a3",
   "metadata": {},
   "outputs": [],
   "source": [
    "every_2nd(1)"
   ]
  },
  {
   "cell_type": "code",
   "execution_count": null,
   "id": "9eacc135-b0b4-4424-83ad-7737cc80eef3",
   "metadata": {},
   "outputs": [],
   "source": []
  },
  {
   "cell_type": "code",
   "execution_count": null,
   "id": "d8d17cee-2cad-4246-8c44-7044e7565d96",
   "metadata": {},
   "outputs": [],
   "source": []
  },
  {
   "cell_type": "code",
   "execution_count": null,
   "id": "0cc7e508-ddeb-4799-a8c8-4609ff9257f5",
   "metadata": {},
   "outputs": [],
   "source": []
  }
 ],
 "metadata": {
  "kernelspec": {
   "display_name": "Python 3 (ipykernel)",
   "language": "python",
   "name": "python3"
  },
  "language_info": {
   "codemirror_mode": {
    "name": "ipython",
    "version": 3
   },
   "file_extension": ".py",
   "mimetype": "text/x-python",
   "name": "python",
   "nbconvert_exporter": "python",
   "pygments_lexer": "ipython3",
   "version": "3.10.8"
  }
 },
 "nbformat": 4,
 "nbformat_minor": 5
}

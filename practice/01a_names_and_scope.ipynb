{
 "cells": [
  {
   "cell_type": "markdown",
   "id": "1e252dc4-9ea2-45e6-b312-834ee3020e16",
   "metadata": {},
   "source": [
    "# Names and scope\n",
    "\n",
    "## Global\n",
    "The largest block of code in Python is a module.\n",
    "So **global** scope refers to names that are visible throughout the entire module.\n",
    "\n",
    "While running, a program has a global environment described by the function `globals()`\n",
    "\n",
    "## Local\n",
    "Inside that, a restricted, local scope is introduced by a function.\n",
    "\n",
    "From inside a function, a name will be visible if its inside the function too, or in the module or global scope.\n",
    "No names inside other functions will be visible.\n",
    "\n",
    "You will not be able to mutate or change a global variable unless you explicitly declare you know its global.\n",
    "\n",
    "## Nonlocal\n",
    "\n",
    "A special kind of scope called `nonlocal` which is outside the current function, but not in global scope.\n",
    "Again, you will not be able to mutate a nonlocal variable unless you declare is explicitly.\n",
    "\n",
    "https://docs.python.org/3/reference/executionmodel.html#resolution-of-names"
   ]
  },
  {
   "cell_type": "markdown",
   "id": "491e3278-2494-4e81-a928-949b634d82b8",
   "metadata": {},
   "source": [
    "## Practice with globals"
   ]
  },
  {
   "cell_type": "code",
   "execution_count": null,
   "id": "483fc3ab-9daf-4f26-8199-c55478474e2c",
   "metadata": {},
   "outputs": [],
   "source": [
    "globals()"
   ]
  },
  {
   "cell_type": "code",
   "execution_count": null,
   "id": "fbdea067-3148-47c0-8002-d12f40c1d723",
   "metadata": {},
   "outputs": [],
   "source": [
    "x = 3\n",
    "globals()"
   ]
  },
  {
   "cell_type": "code",
   "execution_count": null,
   "id": "5da6b1dd-bef5-4af5-b8ef-a9a05d564ef7",
   "metadata": {},
   "outputs": [],
   "source": [
    "SCREEN_WIDTH = 600\n",
    "globals()"
   ]
  },
  {
   "cell_type": "markdown",
   "id": "47b1a2a3-66fa-4807-b502-90a190388567",
   "metadata": {},
   "source": [
    "## Practice with local scope\n",
    "\n",
    "Inside a function, the scope will include any function parameters defined in the signature,\n",
    "and any variable defined within the function.\n",
    "\n",
    "You can look at the names in local scope using the function `locals`."
   ]
  },
  {
   "cell_type": "code",
   "execution_count": null,
   "id": "0e30f9cf-1976-487f-b45a-e11db2744c58",
   "metadata": {},
   "outputs": [],
   "source": [
    "SCREEN_WIDTH = 600\n",
    "\n",
    "def paint_screen(height=400):\n",
    "    print(\"Painting the screen...\")\n",
    "    print(\"SCREEN_WIDTH is {}\".format(SCREEN_WIDTH))\n",
    "    # print(f\"{SCREEN_WIDTH=}\")\n",
    "    title = \"Game Board\"\n",
    "    print(\"Locals are\", locals())\n",
    "\n",
    "paint_screen()\n",
    "print(\"Global SCREEN_WIDTH is {}\".format(SCREEN_WIDTH))"
   ]
  },
  {
   "cell_type": "markdown",
   "id": "425d9b50-00b9-47b2-b0d5-e289b52d0853",
   "metadata": {},
   "source": [
    "A function can also see into global scope, but not change it.\n",
    "Assigning to a 'global' variable will cause a **local** variable to created, shadowing the external name."
   ]
  },
  {
   "cell_type": "code",
   "execution_count": null,
   "id": "931d9979-477b-4a10-a331-ac9012d326fd",
   "metadata": {},
   "outputs": [],
   "source": [
    "SCREEN_WIDTH = 600\n",
    "\n",
    "def paint_screen():\n",
    "    print(\"Painting the screen...\")\n",
    "    # print(\"SCREEN_WIDTH is {}\".format(SCREEN_WIDTH))\n",
    "    SCREEN_WIDTH = 1024\n",
    "    \n",
    "paint_screen()\n",
    "print(\"Global SCREEN_WIDTH is {}\".format(SCREEN_WIDTH))"
   ]
  },
  {
   "cell_type": "markdown",
   "id": "80f3fe22-2a66-47d3-ab00-1ff493c4a721",
   "metadata": {},
   "source": [
    "To assign, or mutate, a **global** variable from inside the function, one needs to declare a global variable.\n",
    "\n",
    "Please note, unless truly necessary, this is **poor** programming practice, and a (bad) code smell that will (probably) stinkify your entire codebase."
   ]
  },
  {
   "cell_type": "code",
   "execution_count": null,
   "id": "15b2b9ec-bc50-476e-a862-4b1a12fc4896",
   "metadata": {},
   "outputs": [],
   "source": [
    "SCREEN_WIDTH = 600\n",
    "\n",
    "def paint_screen():\n",
    "    global SCREEN_WIDTH\n",
    "    print(\"Painting the screen...\")\n",
    "    print(\"Local SCREEN_WIDTH is {}\".format(SCREEN_WIDTH))\n",
    "    SCREEN_WIDTH = 1024\n",
    "    \n",
    "paint_screen()\n",
    "print(\"Global SCREEN_WIDTH is {}\".format(SCREEN_WIDTH))"
   ]
  },
  {
   "cell_type": "markdown",
   "id": "8b9ba9f8-bad1-46d3-b601-d288af12bfc5",
   "metadata": {},
   "source": [
    "## Global Constants\n",
    "\n",
    "There times, however, when having a global **constant** can be useful and helpful.\n",
    "Something like screen width is unlikely to change and so can be declared and used at the module level.\n",
    "\n",
    "Python does not have the concepts of constants, and among consenting adults, we can simulate this in SHOUTING_CASE.\n",
    "\n",
    "As good practice, when using module level variables as GLOBAL constants, we should use UPPERCASE_WITH_UNDERSCORES,\n",
    "and agree that we will **not** use them as variables."
   ]
  },
  {
   "cell_type": "code",
   "execution_count": null,
   "id": "189acee3-8fd7-4745-ad1d-5d7bbc5fd916",
   "metadata": {},
   "outputs": [],
   "source": [
    "SCREEN_WIDTH = 600\n",
    "SCREEN_HEIGHT = 400\n",
    "\n",
    "def paint_screen():\n",
    "    print(\"Painting the screen...\")\n",
    "    print(f\"{SCREEN_WIDTH=}\")\n",
    "    print(f\"{SCREEN_HEIGHT=}\")\n",
    "\n",
    "paint_screen()"
   ]
  },
  {
   "cell_type": "markdown",
   "id": "1b4de765-5a4b-4793-a107-722e9fd2b304",
   "metadata": {},
   "source": [
    "There are some Python types that are immutable like tuples or frozen sets.\n",
    "\n",
    "And some libraries introduce new immutable objects like (pyrsistent)[https://pypi.org/project/pyrsistent/]"
   ]
  },
  {
   "cell_type": "code",
   "execution_count": null,
   "id": "1565babd-667a-4883-bcc2-716349490135",
   "metadata": {},
   "outputs": [],
   "source": [
    "point = (3, 4)\n",
    "point[0] = 5"
   ]
  },
  {
   "cell_type": "code",
   "execution_count": null,
   "id": "7c4970fd-0ab4-4199-9512-5a76e2ffd07d",
   "metadata": {},
   "outputs": [],
   "source": [
    "x = 3\n",
    "y = 4\n",
    "p = (x, y)\n",
    "x = 5\n",
    "p"
   ]
  },
  {
   "cell_type": "code",
   "execution_count": null,
   "id": "3fe9212b-3287-4aea-895c-708134b88b08",
   "metadata": {},
   "outputs": [],
   "source": []
  },
  {
   "cell_type": "code",
   "execution_count": null,
   "id": "a3e88d4b-bff4-40f5-810c-c7803802d917",
   "metadata": {},
   "outputs": [],
   "source": []
  }
 ],
 "metadata": {
  "kernelspec": {
   "display_name": "Python 3 (ipykernel)",
   "language": "python",
   "name": "python3"
  },
  "language_info": {
   "codemirror_mode": {
    "name": "ipython",
    "version": 3
   },
   "file_extension": ".py",
   "mimetype": "text/x-python",
   "name": "python",
   "nbconvert_exporter": "python",
   "pygments_lexer": "ipython3",
   "version": "3.10.8"
  }
 },
 "nbformat": 4,
 "nbformat_minor": 5
}

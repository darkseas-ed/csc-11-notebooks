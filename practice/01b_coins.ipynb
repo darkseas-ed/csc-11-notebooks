{
 "cells": [
  {
   "cell_type": "markdown",
   "id": "6072f553-fc60-4b83-92d3-bd7ba4c1ce5e",
   "metadata": {},
   "source": [
    "# Practice Problems\n",
    "\n",
    "In this practice problem, we will practice\n",
    "* pseudocode\n",
    "* appropriate scope\n",
    "* validating inputs\n",
    "* modular programming\n"
   ]
  },
  {
   "cell_type": "markdown",
   "id": "c8cbefcb-738d-447d-b67c-3410f8b35fa7",
   "metadata": {},
   "source": [
    "# Problem 001      \n",
    "## “1001 Coins”\n",
    " \n",
    "There are 1001 5c coins lined up on a table.\n",
    "\n",
    "I come along and replace every second coin with a 10c coin.\n",
    "\n",
    "Then I replace every third coin with a 20c coin.\n",
    "\n",
    "Finally, I replace every fourth coin with a 50c coin.\n",
    "\n",
    "How much money is on the table?\n",
    " \n"
   ]
  },
  {
   "cell_type": "markdown",
   "id": "4d0f7bb3-0f62-4805-91a7-c935e0bb0ab0",
   "metadata": {},
   "source": [
    "## The problem as Pseudocode\n",
    "\n",
    "1. Make an array of length N\n",
    "2. Fill each element with 5. \n",
    "```\n",
    "    For each element at index `i`\n",
    "    - Set value to 5\n",
    "```\n",
    "3. Fill every second element with 10.\n",
    "```\n",
    "    FOR each element at index `i`\n",
    "        IF `i` is divisible by 2 THEN\n",
    "            `array[i]` <- 10\n",
    "        ENDIF\n",
    "    ENDFOR\n",
    "```    \n",
    "\n",
    "4. Fill every third element with 20.\n",
    "```\n",
    "    FOR each element at index `i` \n",
    "        IF `i` is divisible by 3 THEN\n",
    "            `array[i]` <- 20\n",
    "        ENDIF\n",
    "    ENDFOR\n",
    "```        \n",
    "5. Fill every fourth element with 50.\n",
    "```\n",
    "    FOR each element at index `i` \n",
    "        IF `i` is divisible by 4 THEN\n",
    "            `array[i]` <- 50\n",
    "        ENDIF\n",
    "    ENDFOR\n",
    "```\n",
    "6. Sum all elements\n",
    "```\n",
    "    sum <- 0\n",
    "    FOR each element at index `i` \n",
    "        sum <- sum + array[i]\n",
    "    ENDFOR\n",
    "```\n"
   ]
  },
  {
   "cell_type": "code",
   "execution_count": 1,
   "id": "af716f21-1031-4baa-b7ad-44a07bfcc4dd",
   "metadata": {},
   "outputs": [],
   "source": [
    "import numpy as np"
   ]
  },
  {
   "cell_type": "code",
   "execution_count": 2,
   "id": "0604247b-5478-48de-8ee6-1572144c1e1d",
   "metadata": {},
   "outputs": [],
   "source": [
    "N = 10\n",
    "NUMBER_OF_COINS = 10"
   ]
  },
  {
   "cell_type": "code",
   "execution_count": 13,
   "id": "592a64f6-445c-4d8e-9c49-33e1526a0aee",
   "metadata": {},
   "outputs": [
    {
     "data": {
      "text/plain": [
       "array([0., 0., 0., 0., 0., 0., 0., 0., 0., 0.])"
      ]
     },
     "execution_count": 13,
     "metadata": {},
     "output_type": "execute_result"
    }
   ],
   "source": [
    "# 1. Make an array of length N\n",
    "coins = np.zeros(N)\n",
    "coins"
   ]
  },
  {
   "cell_type": "code",
   "execution_count": 14,
   "id": "a3804b8e-a530-43c8-a5d5-02cf9516c368",
   "metadata": {},
   "outputs": [
    {
     "data": {
      "text/plain": [
       "dtype('float64')"
      ]
     },
     "execution_count": 14,
     "metadata": {},
     "output_type": "execute_result"
    }
   ],
   "source": [
    "coins.dtype"
   ]
  },
  {
   "cell_type": "code",
   "execution_count": 15,
   "id": "d0a0e12d-eecd-4985-a587-e7444ddd0e6b",
   "metadata": {},
   "outputs": [
    {
     "data": {
      "text/plain": [
       "array([5., 5., 5., 5., 5., 5., 5., 5., 5., 5.])"
      ]
     },
     "execution_count": 15,
     "metadata": {},
     "output_type": "execute_result"
    }
   ],
   "source": [
    "# 2. Fill each element with 5\n",
    "v = 5\n",
    "coin_value = 5\n",
    "for i in range(N):\n",
    "    coins[i] = coin_value\n",
    "coins"
   ]
  },
  {
   "cell_type": "code",
   "execution_count": null,
   "id": "ae905978-ac36-4bab-8565-49e5e3daf85d",
   "metadata": {},
   "outputs": [],
   "source": [
    "# 3. Fill every second value with 10\n",
    "coin_value = 10\n",
    "for i in range(N):\n",
    "    # Check if the index is divisible by 2"
   ]
  },
  {
   "cell_type": "code",
   "execution_count": null,
   "id": "e79efd48-bfc3-4b9c-90b2-35681cbbd762",
   "metadata": {},
   "outputs": [],
   "source": []
  },
  {
   "cell_type": "code",
   "execution_count": null,
   "id": "f2712394-1663-4f7e-826e-0e25d9af20f8",
   "metadata": {},
   "outputs": [],
   "source": []
  },
  {
   "cell_type": "code",
   "execution_count": null,
   "id": "886f53dd-ffab-4d36-80c1-fe0930b0a63a",
   "metadata": {},
   "outputs": [],
   "source": []
  },
  {
   "cell_type": "code",
   "execution_count": null,
   "id": "d8347cac-3ee9-464b-a2dd-485d4fff5622",
   "metadata": {},
   "outputs": [],
   "source": []
  },
  {
   "cell_type": "code",
   "execution_count": null,
   "id": "7346d02c-db2f-4dc9-bfa4-9b9a7ee2fd18",
   "metadata": {},
   "outputs": [],
   "source": []
  },
  {
   "cell_type": "code",
   "execution_count": 20,
   "id": "9ab806ad-1550-47f7-8587-c6fc0527e361",
   "metadata": {},
   "outputs": [],
   "source": [
    "def is_divisible(value, divisor):\n",
    "    \"\"\"Return True if `value` is divisible by `divisor`\"\"\"\n",
    "    return value % divisor == 0"
   ]
  },
  {
   "cell_type": "code",
   "execution_count": 28,
   "id": "40b3d47b-0ae1-4ee2-a67c-e8502b53ebd3",
   "metadata": {},
   "outputs": [],
   "source": [
    "assert is_divisible(9, 3)\n",
    "assert not is_divisible(10, 3)\n",
    "# assert not is_divisible(10, -1)"
   ]
  },
  {
   "cell_type": "code",
   "execution_count": 36,
   "id": "f6607572-e22d-4ca3-a0ee-a1b7bfcc8ad6",
   "metadata": {},
   "outputs": [
    {
     "data": {
      "text/plain": [
       "90.0"
      ]
     },
     "execution_count": 36,
     "metadata": {},
     "output_type": "execute_result"
    }
   ],
   "source": [
    "# Alternate array solution\n",
    "N = 5\n",
    "arr = np.ones(N) * 5\n",
    "arr[1::2] = 10\n",
    "arr[2::3] = 20\n",
    "arr[3::4] = 50\n",
    "arr.sum()"
   ]
  },
  {
   "cell_type": "code",
   "execution_count": 37,
   "id": "e3be06f4-7fbc-483a-81f2-83da66ee3dc5",
   "metadata": {},
   "outputs": [
    {
     "data": {
      "text/plain": [
       "array([ 5., 10., 20., 50.,  5.])"
      ]
     },
     "execution_count": 37,
     "metadata": {},
     "output_type": "execute_result"
    }
   ],
   "source": [
    "arr"
   ]
  },
  {
   "cell_type": "code",
   "execution_count": null,
   "id": "bab51322-fea9-4a94-8752-88c88fc1624c",
   "metadata": {},
   "outputs": [],
   "source": []
  }
 ],
 "metadata": {
  "kernelspec": {
   "display_name": "Python 3 (ipykernel)",
   "language": "python",
   "name": "python3"
  },
  "language_info": {
   "codemirror_mode": {
    "name": "ipython",
    "version": 3
   },
   "file_extension": ".py",
   "mimetype": "text/x-python",
   "name": "python",
   "nbconvert_exporter": "python",
   "pygments_lexer": "ipython3",
   "version": "3.10.8"
  }
 },
 "nbformat": 4,
 "nbformat_minor": 5
}
